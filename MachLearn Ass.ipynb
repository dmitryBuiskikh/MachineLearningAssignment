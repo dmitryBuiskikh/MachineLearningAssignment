{
 "cells": [
  {
   "cell_type": "code",
   "execution_count": 1,
   "metadata": {
    "ExecuteTime": {
     "end_time": "2021-02-05T06:47:38.847932Z",
     "start_time": "2021-02-05T06:47:03.847501Z"
    }
   },
   "outputs": [],
   "source": [
    "import pandas as pd\n",
    "import numpy as np\n",
    "import matplotlib.pyplot as plt\n",
    "import seaborn as sns"
   ]
  },
  {
   "cell_type": "markdown",
   "metadata": {},
   "source": [
    "<b> Energy efficiency Data Set.</b>\n",
    "\n",
    "The dataset is taken from the study that simulated the heating and cooling loads of buildings as a function of building parameters.\n",
    "12 different building shapes were simulated for the purpose of the analysis. The dataset comprises 768 samples and 8 features, aiming to predict two real valued responses.\n",
    "\t"
   ]
  },
  {
   "cell_type": "markdown",
   "metadata": {},
   "source": [
    "Source: http://archive.ics.uci.edu/ml/datasets/Energy+efficiency\n"
   ]
  },
  {
   "cell_type": "markdown",
   "metadata": {},
   "source": [
    "## Importing and tidying the dataset"
   ]
  },
  {
   "cell_type": "code",
   "execution_count": 27,
   "metadata": {
    "ExecuteTime": {
     "end_time": "2021-02-05T07:01:54.217984Z",
     "start_time": "2021-02-05T07:01:54.194970Z"
    }
   },
   "outputs": [],
   "source": [
    "data = pd.read_csv(\"ENB2012_data.csv\", delimiter=\";\", \n",
    "                   usecols = [i for i in range(10)],\n",
    "                   names = [\"Relative Compactness\",\"Surface Area\",\"Wall Area\",\"Roof Area\",\"Overall Height\", \"Orientation\",\n",
    "                           \"Glazing Area\", \"Glazing Area Distribution\", \"Heating Load\", \"Cooling Load\"])\n",
    "\n",
    "data = data[1:]\n",
    "data = data.reset_index()\n",
    "data=data.drop(\"index\", axis=1)"
   ]
  },
  {
   "cell_type": "code",
   "execution_count": 28,
   "metadata": {
    "ExecuteTime": {
     "end_time": "2021-02-05T07:01:59.506898Z",
     "start_time": "2021-02-05T07:01:59.488887Z"
    }
   },
   "outputs": [
    {
     "name": "stdout",
     "output_type": "stream",
     "text": [
      "<class 'pandas.core.frame.DataFrame'>\n",
      "RangeIndex: 1296 entries, 0 to 1295\n",
      "Data columns (total 10 columns):\n",
      " #   Column                     Non-Null Count  Dtype \n",
      "---  ------                     --------------  ----- \n",
      " 0   Relative Compactness       768 non-null    object\n",
      " 1   Surface Area               768 non-null    object\n",
      " 2   Wall Area                  768 non-null    object\n",
      " 3   Roof Area                  768 non-null    object\n",
      " 4   Overall Height             768 non-null    object\n",
      " 5   Orientation                768 non-null    object\n",
      " 6   Glazing Area               768 non-null    object\n",
      " 7   Glazing Area Distribution  768 non-null    object\n",
      " 8   Heating Load               768 non-null    object\n",
      " 9   Cooling Load               768 non-null    object\n",
      "dtypes: object(10)\n",
      "memory usage: 101.4+ KB\n"
     ]
    }
   ],
   "source": [
    "data.info()"
   ]
  },
  {
   "cell_type": "code",
   "execution_count": 29,
   "metadata": {
    "ExecuteTime": {
     "end_time": "2021-02-05T07:02:06.582595Z",
     "start_time": "2021-02-05T07:02:06.558581Z"
    }
   },
   "outputs": [
    {
     "data": {
      "text/html": [
       "<div>\n",
       "<style scoped>\n",
       "    .dataframe tbody tr th:only-of-type {\n",
       "        vertical-align: middle;\n",
       "    }\n",
       "\n",
       "    .dataframe tbody tr th {\n",
       "        vertical-align: top;\n",
       "    }\n",
       "\n",
       "    .dataframe thead th {\n",
       "        text-align: right;\n",
       "    }\n",
       "</style>\n",
       "<table border=\"1\" class=\"dataframe\">\n",
       "  <thead>\n",
       "    <tr style=\"text-align: right;\">\n",
       "      <th></th>\n",
       "      <th>Relative Compactness</th>\n",
       "      <th>Surface Area</th>\n",
       "      <th>Wall Area</th>\n",
       "      <th>Roof Area</th>\n",
       "      <th>Overall Height</th>\n",
       "      <th>Orientation</th>\n",
       "      <th>Glazing Area</th>\n",
       "      <th>Glazing Area Distribution</th>\n",
       "      <th>Heating Load</th>\n",
       "      <th>Cooling Load</th>\n",
       "    </tr>\n",
       "  </thead>\n",
       "  <tbody>\n",
       "    <tr>\n",
       "      <th>0</th>\n",
       "      <td>0,98</td>\n",
       "      <td>514,50</td>\n",
       "      <td>294,00</td>\n",
       "      <td>110,25</td>\n",
       "      <td>7,00</td>\n",
       "      <td>2</td>\n",
       "      <td>0,00</td>\n",
       "      <td>0</td>\n",
       "      <td>15,55</td>\n",
       "      <td>21,33</td>\n",
       "    </tr>\n",
       "    <tr>\n",
       "      <th>1</th>\n",
       "      <td>0,98</td>\n",
       "      <td>514,50</td>\n",
       "      <td>294,00</td>\n",
       "      <td>110,25</td>\n",
       "      <td>7,00</td>\n",
       "      <td>3</td>\n",
       "      <td>0,00</td>\n",
       "      <td>0</td>\n",
       "      <td>15,55</td>\n",
       "      <td>21,33</td>\n",
       "    </tr>\n",
       "    <tr>\n",
       "      <th>2</th>\n",
       "      <td>0,98</td>\n",
       "      <td>514,50</td>\n",
       "      <td>294,00</td>\n",
       "      <td>110,25</td>\n",
       "      <td>7,00</td>\n",
       "      <td>4</td>\n",
       "      <td>0,00</td>\n",
       "      <td>0</td>\n",
       "      <td>15,55</td>\n",
       "      <td>21,33</td>\n",
       "    </tr>\n",
       "    <tr>\n",
       "      <th>3</th>\n",
       "      <td>0,98</td>\n",
       "      <td>514,50</td>\n",
       "      <td>294,00</td>\n",
       "      <td>110,25</td>\n",
       "      <td>7,00</td>\n",
       "      <td>5</td>\n",
       "      <td>0,00</td>\n",
       "      <td>0</td>\n",
       "      <td>15,55</td>\n",
       "      <td>21,33</td>\n",
       "    </tr>\n",
       "    <tr>\n",
       "      <th>4</th>\n",
       "      <td>0,90</td>\n",
       "      <td>563,50</td>\n",
       "      <td>318,50</td>\n",
       "      <td>122,50</td>\n",
       "      <td>7,00</td>\n",
       "      <td>2</td>\n",
       "      <td>0,00</td>\n",
       "      <td>0</td>\n",
       "      <td>20,84</td>\n",
       "      <td>28,28</td>\n",
       "    </tr>\n",
       "  </tbody>\n",
       "</table>\n",
       "</div>"
      ],
      "text/plain": [
       "  Relative Compactness Surface Area Wall Area Roof Area Overall Height  \\\n",
       "0                 0,98       514,50    294,00    110,25           7,00   \n",
       "1                 0,98       514,50    294,00    110,25           7,00   \n",
       "2                 0,98       514,50    294,00    110,25           7,00   \n",
       "3                 0,98       514,50    294,00    110,25           7,00   \n",
       "4                 0,90       563,50    318,50    122,50           7,00   \n",
       "\n",
       "  Orientation Glazing Area Glazing Area Distribution Heating Load Cooling Load  \n",
       "0           2         0,00                         0        15,55        21,33  \n",
       "1           3         0,00                         0        15,55        21,33  \n",
       "2           4         0,00                         0        15,55        21,33  \n",
       "3           5         0,00                         0        15,55        21,33  \n",
       "4           2         0,00                         0        20,84        28,28  "
      ]
     },
     "execution_count": 29,
     "metadata": {},
     "output_type": "execute_result"
    }
   ],
   "source": [
    "data.head()"
   ]
  },
  {
   "cell_type": "code",
   "execution_count": 30,
   "metadata": {
    "ExecuteTime": {
     "end_time": "2021-02-05T07:02:10.790330Z",
     "start_time": "2021-02-05T07:02:10.744297Z"
    }
   },
   "outputs": [],
   "source": [
    "data = data.replace(\",\", \".\", regex=True)"
   ]
  },
  {
   "cell_type": "code",
   "execution_count": 32,
   "metadata": {
    "ExecuteTime": {
     "end_time": "2021-02-05T07:02:21.526046Z",
     "start_time": "2021-02-05T07:02:21.508037Z"
    }
   },
   "outputs": [],
   "source": [
    "data=data.apply(pd.to_numeric)"
   ]
  },
  {
   "cell_type": "code",
   "execution_count": 33,
   "metadata": {
    "ExecuteTime": {
     "end_time": "2021-02-05T07:02:22.350716Z",
     "start_time": "2021-02-05T07:02:22.337710Z"
    }
   },
   "outputs": [
    {
     "name": "stdout",
     "output_type": "stream",
     "text": [
      "<class 'pandas.core.frame.DataFrame'>\n",
      "RangeIndex: 1296 entries, 0 to 1295\n",
      "Data columns (total 10 columns):\n",
      " #   Column                     Non-Null Count  Dtype  \n",
      "---  ------                     --------------  -----  \n",
      " 0   Relative Compactness       768 non-null    float64\n",
      " 1   Surface Area               768 non-null    float64\n",
      " 2   Wall Area                  768 non-null    float64\n",
      " 3   Roof Area                  768 non-null    float64\n",
      " 4   Overall Height             768 non-null    float64\n",
      " 5   Orientation                768 non-null    float64\n",
      " 6   Glazing Area               768 non-null    float64\n",
      " 7   Glazing Area Distribution  768 non-null    float64\n",
      " 8   Heating Load               768 non-null    float64\n",
      " 9   Cooling Load               768 non-null    float64\n",
      "dtypes: float64(10)\n",
      "memory usage: 101.4 KB\n"
     ]
    }
   ],
   "source": [
    "data.info()"
   ]
  },
  {
   "cell_type": "code",
   "execution_count": 34,
   "metadata": {
    "ExecuteTime": {
     "end_time": "2021-02-05T07:02:26.077585Z",
     "start_time": "2021-02-05T07:02:26.067579Z"
    }
   },
   "outputs": [
    {
     "data": {
      "text/plain": [
       "Relative Compactness         528\n",
       "Surface Area                 528\n",
       "Wall Area                    528\n",
       "Roof Area                    528\n",
       "Overall Height               528\n",
       "Orientation                  528\n",
       "Glazing Area                 528\n",
       "Glazing Area Distribution    528\n",
       "Heating Load                 528\n",
       "Cooling Load                 528\n",
       "dtype: int64"
      ]
     },
     "execution_count": 34,
     "metadata": {},
     "output_type": "execute_result"
    }
   ],
   "source": [
    "data.isnull().sum()"
   ]
  },
  {
   "cell_type": "code",
   "execution_count": 35,
   "metadata": {
    "ExecuteTime": {
     "end_time": "2021-02-05T07:02:29.031260Z",
     "start_time": "2021-02-05T07:02:28.617969Z"
    }
   },
   "outputs": [
    {
     "data": {
      "text/plain": [
       "<AxesSubplot:>"
      ]
     },
     "execution_count": 35,
     "metadata": {},
     "output_type": "execute_result"
    },
    {
     "data": {
      "image/png": "[encoded data removed]",
      "text/plain": [
       "<Figure size 432x288 with 1 Axes>"
      ]
     },
     "metadata": {
      "needs_background": "light"
     },
     "output_type": "display_data"
    }
   ],
   "source": [
    "sns.heatmap(data.isnull(), cbar=False)"
   ]
  },
  {
   "cell_type": "code",
   "execution_count": 36,
   "metadata": {
    "ExecuteTime": {
     "end_time": "2021-02-05T07:02:33.187856Z",
     "start_time": "2021-02-05T07:02:33.180854Z"
    }
   },
   "outputs": [],
   "source": [
    "data = data.dropna()"
   ]
  },
  {
   "cell_type": "code",
   "execution_count": 37,
   "metadata": {
    "ExecuteTime": {
     "end_time": "2021-02-05T07:02:34.201287Z",
     "start_time": "2021-02-05T07:02:33.748966Z"
    }
   },
   "outputs": [
    {
     "data": {
      "text/plain": [
       "<AxesSubplot:>"
      ]
     },
     "execution_count": 37,
     "metadata": {},
     "output_type": "execute_result"
    },
    {
     "data": {
      "image/png": "[encoded data removed]",
      "text/plain": [
       "<Figure size 432x288 with 1 Axes>"
      ]
     },
     "metadata": {
      "needs_background": "light"
     },
     "output_type": "display_data"
    }
   ],
   "source": [
    "sns.heatmap(data.isnull(), cbar=False)"
   ]
  },
  {
   "cell_type": "code",
   "execution_count": null,
   "metadata": {},
   "outputs": [],
   "source": []
  },
  {
   "cell_type": "markdown",
   "metadata": {},
   "source": [
    "## Splitting the dataset"
   ]
  },
  {
   "cell_type": "code",
   "execution_count": 38,
   "metadata": {
    "ExecuteTime": {
     "end_time": "2021-02-05T07:02:46.137888Z",
     "start_time": "2021-02-05T07:02:39.450005Z"
    }
   },
   "outputs": [],
   "source": [
    "from sklearn.model_selection import train_test_split"
   ]
  },
  {
   "cell_type": "code",
   "execution_count": 39,
   "metadata": {
    "ExecuteTime": {
     "end_time": "2021-02-05T07:02:46.399062Z",
     "start_time": "2021-02-05T07:02:46.389055Z"
    }
   },
   "outputs": [],
   "source": [
    "train, test = train_test_split(data, test_size=0.2, random_state=12)"
   ]
  },
  {
   "cell_type": "code",
   "execution_count": 40,
   "metadata": {
    "ExecuteTime": {
     "end_time": "2021-02-05T07:02:49.742363Z",
     "start_time": "2021-02-05T07:02:49.728353Z"
    },
    "collapsed": true
   },
   "outputs": [
    {
     "name": "stdout",
     "output_type": "stream",
     "text": [
      "<class 'pandas.core.frame.DataFrame'>\n",
      "Int64Index: 154 entries, 229 to 538\n",
      "Data columns (total 10 columns):\n",
      " #   Column                     Non-Null Count  Dtype  \n",
      "---  ------                     --------------  -----  \n",
      " 0   Relative Compactness       154 non-null    float64\n",
      " 1   Surface Area               154 non-null    float64\n",
      " 2   Wall Area                  154 non-null    float64\n",
      " 3   Roof Area                  154 non-null    float64\n",
      " 4   Overall Height             154 non-null    float64\n",
      " 5   Orientation                154 non-null    float64\n",
      " 6   Glazing Area               154 non-null    float64\n",
      " 7   Glazing Area Distribution  154 non-null    float64\n",
      " 8   Heating Load               154 non-null    float64\n",
      " 9   Cooling Load               154 non-null    float64\n",
      "dtypes: float64(10)\n",
      "memory usage: 13.2 KB\n"
     ]
    }
   ],
   "source": [
    "test.info()"
   ]
  },
  {
   "cell_type": "markdown",
   "metadata": {},
   "source": [
    "## Linear Regression"
   ]
  },
  {
   "cell_type": "code",
   "execution_count": 41,
   "metadata": {
    "ExecuteTime": {
     "end_time": "2021-02-05T07:03:01.768894Z",
     "start_time": "2021-02-05T07:02:59.748206Z"
    }
   },
   "outputs": [],
   "source": [
    "from sklearn.linear_model import LinearRegression\n",
    "from sklearn.metrics import mean_squared_error"
   ]
  },
  {
   "cell_type": "markdown",
   "metadata": {},
   "source": [
    "Target columns: \n",
    "- \"Heating Load\", \n",
    "- \"Cooling Load\""
   ]
  },
  {
   "cell_type": "code",
   "execution_count": 42,
   "metadata": {
    "ExecuteTime": {
     "end_time": "2021-02-05T07:03:06.516365Z",
     "start_time": "2021-02-05T07:03:06.510365Z"
    }
   },
   "outputs": [],
   "source": [
    "target = \"Heating Load\""
   ]
  },
  {
   "cell_type": "code",
   "execution_count": 43,
   "metadata": {
    "ExecuteTime": {
     "end_time": "2021-02-05T07:03:07.233108Z",
     "start_time": "2021-02-05T07:03:07.201084Z"
    }
   },
   "outputs": [
    {
     "data": {
      "text/html": [
       "<div>\n",
       "<style scoped>\n",
       "    .dataframe tbody tr th:only-of-type {\n",
       "        vertical-align: middle;\n",
       "    }\n",
       "\n",
       "    .dataframe tbody tr th {\n",
       "        vertical-align: top;\n",
       "    }\n",
       "\n",
       "    .dataframe thead th {\n",
       "        text-align: right;\n",
       "    }\n",
       "</style>\n",
       "<table border=\"1\" class=\"dataframe\">\n",
       "  <thead>\n",
       "    <tr style=\"text-align: right;\">\n",
       "      <th></th>\n",
       "      <th>Relative Compactness</th>\n",
       "      <th>Surface Area</th>\n",
       "      <th>Wall Area</th>\n",
       "      <th>Roof Area</th>\n",
       "      <th>Overall Height</th>\n",
       "      <th>Orientation</th>\n",
       "      <th>Glazing Area</th>\n",
       "      <th>Glazing Area Distribution</th>\n",
       "      <th>Heating Load</th>\n",
       "      <th>Cooling Load</th>\n",
       "    </tr>\n",
       "  </thead>\n",
       "  <tbody>\n",
       "    <tr>\n",
       "      <th>Relative Compactness</th>\n",
       "      <td>1.000000e+00</td>\n",
       "      <td>-9.919015e-01</td>\n",
       "      <td>-2.037817e-01</td>\n",
       "      <td>-8.688234e-01</td>\n",
       "      <td>8.277473e-01</td>\n",
       "      <td>0.000000</td>\n",
       "      <td>1.283986e-17</td>\n",
       "      <td>1.764620e-17</td>\n",
       "      <td>0.622272</td>\n",
       "      <td>0.634339</td>\n",
       "    </tr>\n",
       "    <tr>\n",
       "      <th>Surface Area</th>\n",
       "      <td>-9.919015e-01</td>\n",
       "      <td>1.000000e+00</td>\n",
       "      <td>1.955016e-01</td>\n",
       "      <td>8.807195e-01</td>\n",
       "      <td>-8.581477e-01</td>\n",
       "      <td>0.000000</td>\n",
       "      <td>1.318356e-16</td>\n",
       "      <td>-3.558613e-16</td>\n",
       "      <td>-0.658120</td>\n",
       "      <td>-0.672999</td>\n",
       "    </tr>\n",
       "    <tr>\n",
       "      <th>Wall Area</th>\n",
       "      <td>-2.037817e-01</td>\n",
       "      <td>1.955016e-01</td>\n",
       "      <td>1.000000e+00</td>\n",
       "      <td>-2.923165e-01</td>\n",
       "      <td>2.809757e-01</td>\n",
       "      <td>0.000000</td>\n",
       "      <td>-7.969726e-19</td>\n",
       "      <td>0.000000e+00</td>\n",
       "      <td>0.455671</td>\n",
       "      <td>0.427117</td>\n",
       "    </tr>\n",
       "    <tr>\n",
       "      <th>Roof Area</th>\n",
       "      <td>-8.688234e-01</td>\n",
       "      <td>8.807195e-01</td>\n",
       "      <td>-2.923165e-01</td>\n",
       "      <td>1.000000e+00</td>\n",
       "      <td>-9.725122e-01</td>\n",
       "      <td>0.000000</td>\n",
       "      <td>-1.381805e-16</td>\n",
       "      <td>-1.079129e-16</td>\n",
       "      <td>-0.861828</td>\n",
       "      <td>-0.862547</td>\n",
       "    </tr>\n",
       "    <tr>\n",
       "      <th>Overall Height</th>\n",
       "      <td>8.277473e-01</td>\n",
       "      <td>-8.581477e-01</td>\n",
       "      <td>2.809757e-01</td>\n",
       "      <td>-9.725122e-01</td>\n",
       "      <td>1.000000e+00</td>\n",
       "      <td>0.000000</td>\n",
       "      <td>1.861418e-18</td>\n",
       "      <td>0.000000e+00</td>\n",
       "      <td>0.889431</td>\n",
       "      <td>0.895785</td>\n",
       "    </tr>\n",
       "    <tr>\n",
       "      <th>Orientation</th>\n",
       "      <td>0.000000e+00</td>\n",
       "      <td>0.000000e+00</td>\n",
       "      <td>0.000000e+00</td>\n",
       "      <td>0.000000e+00</td>\n",
       "      <td>0.000000e+00</td>\n",
       "      <td>1.000000</td>\n",
       "      <td>0.000000e+00</td>\n",
       "      <td>0.000000e+00</td>\n",
       "      <td>-0.002587</td>\n",
       "      <td>0.014290</td>\n",
       "    </tr>\n",
       "    <tr>\n",
       "      <th>Glazing Area</th>\n",
       "      <td>1.283986e-17</td>\n",
       "      <td>1.318356e-16</td>\n",
       "      <td>-7.969726e-19</td>\n",
       "      <td>-1.381805e-16</td>\n",
       "      <td>1.861418e-18</td>\n",
       "      <td>0.000000</td>\n",
       "      <td>1.000000e+00</td>\n",
       "      <td>2.129642e-01</td>\n",
       "      <td>0.269841</td>\n",
       "      <td>0.207505</td>\n",
       "    </tr>\n",
       "    <tr>\n",
       "      <th>Glazing Area Distribution</th>\n",
       "      <td>1.764620e-17</td>\n",
       "      <td>-3.558613e-16</td>\n",
       "      <td>0.000000e+00</td>\n",
       "      <td>-1.079129e-16</td>\n",
       "      <td>0.000000e+00</td>\n",
       "      <td>0.000000</td>\n",
       "      <td>2.129642e-01</td>\n",
       "      <td>1.000000e+00</td>\n",
       "      <td>0.087368</td>\n",
       "      <td>0.050525</td>\n",
       "    </tr>\n",
       "    <tr>\n",
       "      <th>Heating Load</th>\n",
       "      <td>6.222722e-01</td>\n",
       "      <td>-6.581202e-01</td>\n",
       "      <td>4.556712e-01</td>\n",
       "      <td>-8.618283e-01</td>\n",
       "      <td>8.894307e-01</td>\n",
       "      <td>-0.002587</td>\n",
       "      <td>2.698410e-01</td>\n",
       "      <td>8.736759e-02</td>\n",
       "      <td>1.000000</td>\n",
       "      <td>0.975862</td>\n",
       "    </tr>\n",
       "    <tr>\n",
       "      <th>Cooling Load</th>\n",
       "      <td>6.343391e-01</td>\n",
       "      <td>-6.729989e-01</td>\n",
       "      <td>4.271170e-01</td>\n",
       "      <td>-8.625466e-01</td>\n",
       "      <td>8.957852e-01</td>\n",
       "      <td>0.014290</td>\n",
       "      <td>2.075050e-01</td>\n",
       "      <td>5.052512e-02</td>\n",
       "      <td>0.975862</td>\n",
       "      <td>1.000000</td>\n",
       "    </tr>\n",
       "  </tbody>\n",
       "</table>\n",
       "</div>"
      ],
      "text/plain": [
       "                           Relative Compactness  Surface Area     Wall Area  \\\n",
       "Relative Compactness               1.000000e+00 -9.919015e-01 -2.037817e-01   \n",
       "Surface Area                      -9.919015e-01  1.000000e+00  1.955016e-01   \n",
       "Wall Area                         -2.037817e-01  1.955016e-01  1.000000e+00   \n",
       "Roof Area                         -8.688234e-01  8.807195e-01 -2.923165e-01   \n",
       "Overall Height                     8.277473e-01 -8.581477e-01  2.809757e-01   \n",
       "Orientation                        0.000000e+00  0.000000e+00  0.000000e+00   \n",
       "Glazing Area                       1.283986e-17  1.318356e-16 -7.969726e-19   \n",
       "Glazing Area Distribution          1.764620e-17 -3.558613e-16  0.000000e+00   \n",
       "Heating Load                       6.222722e-01 -6.581202e-01  4.556712e-01   \n",
       "Cooling Load                       6.343391e-01 -6.729989e-01  4.271170e-01   \n",
       "\n",
       "                              Roof Area  Overall Height  Orientation  \\\n",
       "Relative Compactness      -8.688234e-01    8.277473e-01     0.000000   \n",
       "Surface Area               8.807195e-01   -8.581477e-01     0.000000   \n",
       "Wall Area                 -2.923165e-01    2.809757e-01     0.000000   \n",
       "Roof Area                  1.000000e+00   -9.725122e-01     0.000000   \n",
       "Overall Height            -9.725122e-01    1.000000e+00     0.000000   \n",
       "Orientation                0.000000e+00    0.000000e+00     1.000000   \n",
       "Glazing Area              -1.381805e-16    1.861418e-18     0.000000   \n",
       "Glazing Area Distribution -1.079129e-16    0.000000e+00     0.000000   \n",
       "Heating Load              -8.618283e-01    8.894307e-01    -0.002587   \n",
       "Cooling Load              -8.625466e-01    8.957852e-01     0.014290   \n",
       "\n",
       "                           Glazing Area  Glazing Area Distribution  \\\n",
       "Relative Compactness       1.283986e-17               1.764620e-17   \n",
       "Surface Area               1.318356e-16              -3.558613e-16   \n",
       "Wall Area                 -7.969726e-19               0.000000e+00   \n",
       "Roof Area                 -1.381805e-16              -1.079129e-16   \n",
       "Overall Height             1.861418e-18               0.000000e+00   \n",
       "Orientation                0.000000e+00               0.000000e+00   \n",
       "Glazing Area               1.000000e+00               2.129642e-01   \n",
       "Glazing Area Distribution  2.129642e-01               1.000000e+00   \n",
       "Heating Load               2.698410e-01               8.736759e-02   \n",
       "Cooling Load               2.075050e-01               5.052512e-02   \n",
       "\n",
       "                           Heating Load  Cooling Load  \n",
       "Relative Compactness           0.622272      0.634339  \n",
       "Surface Area                  -0.658120     -0.672999  \n",
       "Wall Area                      0.455671      0.427117  \n",
       "Roof Area                     -0.861828     -0.862547  \n",
       "Overall Height                 0.889431      0.895785  \n",
       "Orientation                   -0.002587      0.014290  \n",
       "Glazing Area                   0.269841      0.207505  \n",
       "Glazing Area Distribution      0.087368      0.050525  \n",
       "Heating Load                   1.000000      0.975862  \n",
       "Cooling Load                   0.975862      1.000000  "
      ]
     },
     "execution_count": 43,
     "metadata": {},
     "output_type": "execute_result"
    }
   ],
   "source": [
    "corr_table=data.corr()\n",
    "corr_table"
   ]
  },
  {
   "cell_type": "code",
   "execution_count": 44,
   "metadata": {
    "ExecuteTime": {
     "end_time": "2021-02-05T07:03:12.023334Z",
     "start_time": "2021-02-05T07:03:11.531891Z"
    }
   },
   "outputs": [
    {
     "data": {
      "text/plain": [
       "<AxesSubplot:>"
      ]
     },
     "execution_count": 44,
     "metadata": {},
     "output_type": "execute_result"
    },
    {
     "data": {
      "image/png": "[encoded data removed]",
      "text/plain": [
       "<Figure size 432x288 with 2 Axes>"
      ]
     },
     "metadata": {
      "needs_background": "light"
     },
     "output_type": "display_data"
    }
   ],
   "source": [
    "sns.heatmap(data.corr())"
   ]
  },
  {
   "cell_type": "code",
   "execution_count": 45,
   "metadata": {
    "ExecuteTime": {
     "end_time": "2021-02-05T07:03:12.960415Z",
     "start_time": "2021-02-05T07:03:12.949406Z"
    }
   },
   "outputs": [
    {
     "data": {
      "text/plain": [
       "Heating Load                 1.000000\n",
       "Cooling Load                 0.975862\n",
       "Overall Height               0.889431\n",
       "Roof Area                    0.861828\n",
       "Surface Area                 0.658120\n",
       "Relative Compactness         0.622272\n",
       "Wall Area                    0.455671\n",
       "Glazing Area                 0.269841\n",
       "Glazing Area Distribution    0.087368\n",
       "Orientation                  0.002587\n",
       "Name: Heating Load, dtype: float64"
      ]
     },
     "execution_count": 45,
     "metadata": {},
     "output_type": "execute_result"
    }
   ],
   "source": [
    "sorted_corrs = corr_table[target].abs().sort_values(ascending=False)\n",
    "sorted_corrs"
   ]
  },
  {
   "cell_type": "code",
   "execution_count": 46,
   "metadata": {
    "ExecuteTime": {
     "end_time": "2021-02-05T07:03:15.679119Z",
     "start_time": "2021-02-05T07:03:15.670111Z"
    }
   },
   "outputs": [
    {
     "data": {
      "text/plain": [
       "Heating Load            1.000000\n",
       "Cooling Load            0.975862\n",
       "Overall Height          0.889431\n",
       "Roof Area               0.861828\n",
       "Surface Area            0.658120\n",
       "Relative Compactness    0.622272\n",
       "Wall Area               0.455671\n",
       "Name: Heating Load, dtype: float64"
      ]
     },
     "execution_count": 46,
     "metadata": {},
     "output_type": "execute_result"
    }
   ],
   "source": [
    "strong_correlations = sorted_corrs[sorted_corrs > 0.3]\n",
    "strong_correlations"
   ]
  },
  {
   "cell_type": "markdown",
   "metadata": {},
   "source": [
    "The following features are strongly correlated with the target column."
   ]
  },
  {
   "cell_type": "code",
   "execution_count": 47,
   "metadata": {
    "ExecuteTime": {
     "end_time": "2021-02-05T07:03:18.798476Z",
     "start_time": "2021-02-05T07:03:18.789473Z"
    }
   },
   "outputs": [
    {
     "data": {
      "text/plain": [
       "Overall Height          0.889431\n",
       "Roof Area               0.861828\n",
       "Surface Area            0.658120\n",
       "Relative Compactness    0.622272\n",
       "Wall Area               0.455671\n",
       "Name: Heating Load, dtype: float64"
      ]
     },
     "execution_count": 47,
     "metadata": {},
     "output_type": "execute_result"
    }
   ],
   "source": [
    "features = strong_correlations.drop([\"Heating Load\", \"Cooling Load\"])\n",
    "features"
   ]
  },
  {
   "cell_type": "code",
   "execution_count": 48,
   "metadata": {
    "ExecuteTime": {
     "end_time": "2021-02-05T07:03:19.456605Z",
     "start_time": "2021-02-05T07:03:19.448598Z"
    }
   },
   "outputs": [
    {
     "data": {
      "text/plain": [
       "Index(['Overall Height', 'Roof Area', 'Surface Area', 'Relative Compactness',\n",
       "       'Wall Area'],\n",
       "      dtype='object')"
      ]
     },
     "execution_count": 48,
     "metadata": {},
     "output_type": "execute_result"
    }
   ],
   "source": [
    "features = features.index\n",
    "features"
   ]
  },
  {
   "cell_type": "code",
   "execution_count": null,
   "metadata": {},
   "outputs": [],
   "source": []
  },
  {
   "cell_type": "code",
   "execution_count": 55,
   "metadata": {
    "ExecuteTime": {
     "end_time": "2021-02-05T07:04:12.357376Z",
     "start_time": "2021-02-05T07:04:12.349373Z"
    }
   },
   "outputs": [],
   "source": [
    "# The following function builds a linear regression model for calculating the target based on the feature columns, \n",
    "# as well as calculates the Root mean square error for the particular model.\n",
    "\n",
    "def calc_rmse(features):\n",
    "    lr = LinearRegression()\n",
    "    lr.fit(train[features], train[target])\n",
    "\n",
    "    train_predictions = lr.predict(train[features])\n",
    "    train_mse = mean_squared_error(train[target], train_predictions)\n",
    "    train_rmse = np.sqrt(train_mse)\n",
    "\n",
    "    test_predictions = lr.predict(test[features])\n",
    "    test_mse = mean_squared_error(test[target], test_predictions)\n",
    "    test_rmse = np.sqrt(test_mse)\n",
    "\n",
    "    #print(train_rmse, test_rmse)\n",
    "    return train_rmse, test_rmse"
   ]
  },
  {
   "cell_type": "markdown",
   "metadata": {},
   "source": [
    "### Feature engineering "
   ]
  },
  {
   "cell_type": "code",
   "execution_count": 50,
   "metadata": {
    "ExecuteTime": {
     "end_time": "2021-02-05T07:03:25.551300Z",
     "start_time": "2021-02-05T07:03:25.548296Z"
    }
   },
   "outputs": [],
   "source": [
    "from itertools import combinations"
   ]
  },
  {
   "cell_type": "code",
   "execution_count": 51,
   "metadata": {
    "ExecuteTime": {
     "end_time": "2021-02-05T07:03:26.147057Z",
     "start_time": "2021-02-05T07:03:26.142051Z"
    }
   },
   "outputs": [],
   "source": [
    "feature_combinations = []"
   ]
  },
  {
   "cell_type": "markdown",
   "metadata": {},
   "source": [
    "Determining all possible feature combination"
   ]
  },
  {
   "cell_type": "code",
   "execution_count": 52,
   "metadata": {
    "ExecuteTime": {
     "end_time": "2021-02-05T07:03:27.268790Z",
     "start_time": "2021-02-05T07:03:27.253781Z"
    },
    "collapsed": true
   },
   "outputs": [
    {
     "data": {
      "text/plain": [
       "[(0,),\n",
       " (1,),\n",
       " (2,),\n",
       " (3,),\n",
       " (4,),\n",
       " (0, 1),\n",
       " (0, 2),\n",
       " (0, 3),\n",
       " (0, 4),\n",
       " (1, 2),\n",
       " (1, 3),\n",
       " (1, 4),\n",
       " (2, 3),\n",
       " (2, 4),\n",
       " (3, 4),\n",
       " (0, 1, 2),\n",
       " (0, 1, 3),\n",
       " (0, 1, 4),\n",
       " (0, 2, 3),\n",
       " (0, 2, 4),\n",
       " (0, 3, 4),\n",
       " (1, 2, 3),\n",
       " (1, 2, 4),\n",
       " (1, 3, 4),\n",
       " (2, 3, 4),\n",
       " (0, 1, 2, 3),\n",
       " (0, 1, 2, 4),\n",
       " (0, 1, 3, 4),\n",
       " (0, 2, 3, 4),\n",
       " (1, 2, 3, 4),\n",
       " (0, 1, 2, 3, 4)]"
      ]
     },
     "execution_count": 52,
     "metadata": {},
     "output_type": "execute_result"
    }
   ],
   "source": [
    "for i in range(1, len(features)+1):\n",
    "    c = combinations([0,1,2,3,4],i)\n",
    "    for j in list(c):\n",
    "        feature_combinations.append(j)\n",
    "        \n",
    "feature_combinations"
   ]
  },
  {
   "cell_type": "markdown",
   "metadata": {},
   "source": [
    "Building the linear regression models and their RMSError calculation."
   ]
  },
  {
   "cell_type": "code",
   "execution_count": 56,
   "metadata": {
    "ExecuteTime": {
     "end_time": "2021-02-05T07:04:15.886730Z",
     "start_time": "2021-02-05T07:04:15.536482Z"
    }
   },
   "outputs": [],
   "source": [
    "train_rmses = []\n",
    "test_rmses = []\n",
    "sanakirja={}\n",
    "for ehto in feature_combinations:\n",
    "    columns = []\n",
    "    for alkio in ehto:\n",
    "        columns.append(features[alkio])\n",
    "    \n",
    "    sanakirja[ehto]=columns\n",
    "    train_rmse, test_rmse = calc_rmse(columns)\n",
    "    train_rmses.append(train_rmse)\n",
    "    test_rmses.append(test_rmse)\n",
    "    #print(columns)\n",
    "    \n",
    "    \n",
    "#print(train_rmses)\n",
    "#print(test_rmses)   "
   ]
  },
  {
   "cell_type": "code",
   "execution_count": 57,
   "metadata": {
    "ExecuteTime": {
     "end_time": "2021-02-05T07:04:18.772501Z",
     "start_time": "2021-02-05T07:04:18.403239Z"
    }
   },
   "outputs": [
    {
     "data": {
      "image/png": "[encoded data removed]",
      "text/plain": [
       "<Figure size 1080x360 with 2 Axes>"
      ]
     },
     "metadata": {
      "needs_background": "light"
     },
     "output_type": "display_data"
    }
   ],
   "source": [
    "fig = plt.figure(figsize=(15,5))\n",
    "\n",
    "\n",
    "ax1 = fig.add_subplot(1, 2, 1)\n",
    "ax1.set_title(\"train RMSEs\")\n",
    "plt.plot(train_rmses)\n",
    "\n",
    "\n",
    "ax2 = fig.add_subplot(1, 2, 2)\n",
    "ax2.set_title(\"test RMSEs\")\n",
    "plt.plot(test_rmses)\n",
    "\n",
    "plt.show()"
   ]
  },
  {
   "cell_type": "markdown",
   "metadata": {},
   "source": [
    "What model does have the minimum RMSError in the test dataset?"
   ]
  },
  {
   "cell_type": "code",
   "execution_count": 58,
   "metadata": {
    "ExecuteTime": {
     "end_time": "2021-02-05T07:04:22.295806Z",
     "start_time": "2021-02-05T07:04:22.288821Z"
    }
   },
   "outputs": [
    {
     "name": "stdout",
     "output_type": "stream",
     "text": [
      "4.481452543033247 20\n"
     ]
    }
   ],
   "source": [
    "min_test_rmse=min(test_rmses)\n",
    "min_test_rmse_index = test_rmses.index(min_test_rmse)\n",
    "print(min_test_rmse, min_test_rmse_index)"
   ]
  },
  {
   "cell_type": "markdown",
   "metadata": {},
   "source": [
    "The one that takes the following columns as features"
   ]
  },
  {
   "cell_type": "code",
   "execution_count": 59,
   "metadata": {
    "ExecuteTime": {
     "end_time": "2021-02-05T07:04:23.644235Z",
     "start_time": "2021-02-05T07:04:23.637228Z"
    }
   },
   "outputs": [
    {
     "data": {
      "text/plain": [
       "['Overall Height', 'Relative Compactness', 'Wall Area']"
      ]
     },
     "execution_count": 59,
     "metadata": {},
     "output_type": "execute_result"
    }
   ],
   "source": [
    "sanakirja[feature_combinations[min_test_rmse_index]]"
   ]
  },
  {
   "cell_type": "markdown",
   "metadata": {},
   "source": [
    "Judging by the test RMSError, the following models have errors close to the minimal one."
   ]
  },
  {
   "cell_type": "code",
   "execution_count": 60,
   "metadata": {
    "ExecuteTime": {
     "end_time": "2021-02-05T07:04:27.575927Z",
     "start_time": "2021-02-05T07:04:27.565919Z"
    }
   },
   "outputs": [
    {
     "name": "stdout",
     "output_type": "stream",
     "text": [
      "4.487\n",
      "['Overall Height', 'Roof Area', 'Surface Area']\n",
      "----------\n",
      "4.495\n",
      "['Overall Height', 'Roof Area', 'Relative Compactness']\n",
      "----------\n",
      "4.487\n",
      "['Overall Height', 'Roof Area', 'Wall Area']\n",
      "----------\n",
      "4.512\n",
      "['Overall Height', 'Surface Area', 'Relative Compactness']\n",
      "----------\n",
      "4.487\n",
      "['Overall Height', 'Surface Area', 'Wall Area']\n",
      "----------\n",
      "4.481\n",
      "['Overall Height', 'Relative Compactness', 'Wall Area']\n",
      "----------\n"
     ]
    }
   ],
   "source": [
    "for i in range(15,21):\n",
    "    print(test_rmses[i].round(3))\n",
    "    print(sanakirja[feature_combinations[i]])\n",
    "    print(\"----------\")"
   ]
  },
  {
   "cell_type": "code",
   "execution_count": null,
   "metadata": {},
   "outputs": [],
   "source": []
  },
  {
   "cell_type": "markdown",
   "metadata": {},
   "source": [
    "## Classification. Logistic Regression."
   ]
  },
  {
   "cell_type": "code",
   "execution_count": 61,
   "metadata": {
    "ExecuteTime": {
     "end_time": "2021-02-05T07:04:32.844384Z",
     "start_time": "2021-02-05T07:04:32.840381Z"
    }
   },
   "outputs": [],
   "source": [
    "from sklearn.linear_model import LogisticRegression"
   ]
  },
  {
   "cell_type": "code",
   "execution_count": 62,
   "metadata": {
    "ExecuteTime": {
     "end_time": "2021-02-05T07:04:33.489776Z",
     "start_time": "2021-02-05T07:04:33.485771Z"
    }
   },
   "outputs": [],
   "source": [
    "target = \"Orientation\""
   ]
  },
  {
   "cell_type": "code",
   "execution_count": 63,
   "metadata": {
    "ExecuteTime": {
     "end_time": "2021-02-05T07:04:35.919247Z",
     "start_time": "2021-02-05T07:04:35.911242Z"
    }
   },
   "outputs": [
    {
     "data": {
      "text/plain": [
       "array([2., 3., 4., 5.])"
      ]
     },
     "execution_count": 63,
     "metadata": {},
     "output_type": "execute_result"
    }
   ],
   "source": [
    "orientations = data[\"Orientation\"].unique()\n",
    "orientations"
   ]
  },
  {
   "cell_type": "markdown",
   "metadata": {},
   "source": [
    "It is already in categorical values expressed witn numbers:\n",
    "\n",
    "2 - North\n",
    "3 - West\n",
    "4 - South\n",
    "5 - East"
   ]
  },
  {
   "cell_type": "markdown",
   "metadata": {},
   "source": [
    "One-vs-all approach: the problem is converted into n=4 binary classification problems.\n",
    "\n",
    "1. North is positive (1); the rest (West, East, South) are negative (0).\n",
    "2. West is positive (1); the rest (North, East, South) are negative (0).\n",
    "3. East is positive (1); the rest (North, West, South) are negative (0).\n",
    "4. South is positive (1); the rest (North, East, West) are negative (0)."
   ]
  },
  {
   "cell_type": "code",
   "execution_count": 64,
   "metadata": {
    "ExecuteTime": {
     "end_time": "2021-02-05T07:04:40.266227Z",
     "start_time": "2021-02-05T07:04:40.256222Z"
    }
   },
   "outputs": [
    {
     "data": {
      "text/plain": [
       "Orientation                  1.000000\n",
       "Cooling Load                 0.014290\n",
       "Heating Load                 0.002587\n",
       "Glazing Area Distribution    0.000000\n",
       "Glazing Area                 0.000000\n",
       "Overall Height               0.000000\n",
       "Roof Area                    0.000000\n",
       "Wall Area                    0.000000\n",
       "Surface Area                 0.000000\n",
       "Relative Compactness         0.000000\n",
       "Name: Orientation, dtype: float64"
      ]
     },
     "execution_count": 64,
     "metadata": {},
     "output_type": "execute_result"
    }
   ],
   "source": [
    "sorted_corrs = corr_table[target].abs().sort_values(ascending=False)\n",
    "sorted_corrs"
   ]
  },
  {
   "cell_type": "code",
   "execution_count": 65,
   "metadata": {
    "ExecuteTime": {
     "end_time": "2021-02-05T07:04:40.960076Z",
     "start_time": "2021-02-05T07:04:40.951067Z"
    }
   },
   "outputs": [
    {
     "data": {
      "text/plain": [
       "Index(['Relative Compactness', 'Surface Area', 'Wall Area', 'Overall Height',\n",
       "       'Glazing Area', 'Glazing Area Distribution', 'Heating Load',\n",
       "       'Cooling Load'],\n",
       "      dtype='object')"
      ]
     },
     "execution_count": 65,
     "metadata": {},
     "output_type": "execute_result"
    }
   ],
   "source": [
    "features = data.columns.drop(['Orientation', 'Roof Area'])\n",
    "features"
   ]
  },
  {
   "cell_type": "code",
   "execution_count": 66,
   "metadata": {
    "ExecuteTime": {
     "end_time": "2021-02-05T07:04:44.263849Z",
     "start_time": "2021-02-05T07:04:44.256846Z"
    }
   },
   "outputs": [
    {
     "data": {
      "text/plain": [
       "['Relative Compactness',\n",
       " 'Surface Area',\n",
       " 'Wall Area',\n",
       " 'Heating Load',\n",
       " 'Cooling Load']"
      ]
     },
     "execution_count": 66,
     "metadata": {},
     "output_type": "execute_result"
    }
   ],
   "source": [
    "features = ['Relative Compactness','Surface Area','Wall Area','Heating Load', 'Cooling Load']\n",
    "features"
   ]
  },
  {
   "cell_type": "markdown",
   "metadata": {},
   "source": [
    "### Splitting the dataset "
   ]
  },
  {
   "cell_type": "code",
   "execution_count": 67,
   "metadata": {
    "ExecuteTime": {
     "end_time": "2021-02-05T07:04:45.246821Z",
     "start_time": "2021-02-05T07:04:45.241815Z"
    }
   },
   "outputs": [],
   "source": [
    "#data = data.reset_index()\n",
    "shuffled_rows = np.random.permutation(data.index)\n",
    "shuffled_rows\n",
    "shuffled_data = data.iloc[shuffled_rows]"
   ]
  },
  {
   "cell_type": "code",
   "execution_count": 68,
   "metadata": {
    "ExecuteTime": {
     "end_time": "2021-02-05T07:04:45.746317Z",
     "start_time": "2021-02-05T07:04:45.738314Z"
    }
   },
   "outputs": [],
   "source": [
    "train, test = train_test_split(shuffled_data, test_size=0.2, random_state=13)"
   ]
  },
  {
   "cell_type": "code",
   "execution_count": 69,
   "metadata": {
    "ExecuteTime": {
     "end_time": "2021-02-05T07:04:46.274045Z",
     "start_time": "2021-02-05T07:04:46.241022Z"
    }
   },
   "outputs": [
    {
     "data": {
      "text/html": [
       "<div>\n",
       "<style scoped>\n",
       "    .dataframe tbody tr th:only-of-type {\n",
       "        vertical-align: middle;\n",
       "    }\n",
       "\n",
       "    .dataframe tbody tr th {\n",
       "        vertical-align: top;\n",
       "    }\n",
       "\n",
       "    .dataframe thead th {\n",
       "        text-align: right;\n",
       "    }\n",
       "</style>\n",
       "<table border=\"1\" class=\"dataframe\">\n",
       "  <thead>\n",
       "    <tr style=\"text-align: right;\">\n",
       "      <th></th>\n",
       "      <th>index</th>\n",
       "      <th>Relative Compactness</th>\n",
       "      <th>Surface Area</th>\n",
       "      <th>Wall Area</th>\n",
       "      <th>Roof Area</th>\n",
       "      <th>Overall Height</th>\n",
       "      <th>Orientation</th>\n",
       "      <th>Glazing Area</th>\n",
       "      <th>Glazing Area Distribution</th>\n",
       "      <th>Heating Load</th>\n",
       "      <th>Cooling Load</th>\n",
       "    </tr>\n",
       "  </thead>\n",
       "  <tbody>\n",
       "    <tr>\n",
       "      <th>0</th>\n",
       "      <td>408</td>\n",
       "      <td>0.74</td>\n",
       "      <td>686.0</td>\n",
       "      <td>245.0</td>\n",
       "      <td>220.5</td>\n",
       "      <td>3.5</td>\n",
       "      <td>2.0</td>\n",
       "      <td>0.25</td>\n",
       "      <td>3.0</td>\n",
       "      <td>11.80</td>\n",
       "      <td>14.49</td>\n",
       "    </tr>\n",
       "    <tr>\n",
       "      <th>1</th>\n",
       "      <td>140</td>\n",
       "      <td>0.62</td>\n",
       "      <td>808.5</td>\n",
       "      <td>367.5</td>\n",
       "      <td>220.5</td>\n",
       "      <td>3.5</td>\n",
       "      <td>2.0</td>\n",
       "      <td>0.10</td>\n",
       "      <td>2.0</td>\n",
       "      <td>12.88</td>\n",
       "      <td>14.37</td>\n",
       "    </tr>\n",
       "    <tr>\n",
       "      <th>2</th>\n",
       "      <td>156</td>\n",
       "      <td>0.82</td>\n",
       "      <td>612.5</td>\n",
       "      <td>318.5</td>\n",
       "      <td>147.0</td>\n",
       "      <td>7.0</td>\n",
       "      <td>2.0</td>\n",
       "      <td>0.10</td>\n",
       "      <td>3.0</td>\n",
       "      <td>22.93</td>\n",
       "      <td>28.68</td>\n",
       "    </tr>\n",
       "    <tr>\n",
       "      <th>3</th>\n",
       "      <td>334</td>\n",
       "      <td>0.62</td>\n",
       "      <td>808.5</td>\n",
       "      <td>367.5</td>\n",
       "      <td>220.5</td>\n",
       "      <td>3.5</td>\n",
       "      <td>4.0</td>\n",
       "      <td>0.25</td>\n",
       "      <td>1.0</td>\n",
       "      <td>15.08</td>\n",
       "      <td>15.77</td>\n",
       "    </tr>\n",
       "    <tr>\n",
       "      <th>4</th>\n",
       "      <td>745</td>\n",
       "      <td>0.74</td>\n",
       "      <td>686.0</td>\n",
       "      <td>245.0</td>\n",
       "      <td>220.5</td>\n",
       "      <td>3.5</td>\n",
       "      <td>3.0</td>\n",
       "      <td>0.40</td>\n",
       "      <td>5.0</td>\n",
       "      <td>14.19</td>\n",
       "      <td>16.62</td>\n",
       "    </tr>\n",
       "    <tr>\n",
       "      <th>...</th>\n",
       "      <td>...</td>\n",
       "      <td>...</td>\n",
       "      <td>...</td>\n",
       "      <td>...</td>\n",
       "      <td>...</td>\n",
       "      <td>...</td>\n",
       "      <td>...</td>\n",
       "      <td>...</td>\n",
       "      <td>...</td>\n",
       "      <td>...</td>\n",
       "      <td>...</td>\n",
       "    </tr>\n",
       "    <tr>\n",
       "      <th>149</th>\n",
       "      <td>657</td>\n",
       "      <td>0.69</td>\n",
       "      <td>735.0</td>\n",
       "      <td>294.0</td>\n",
       "      <td>220.5</td>\n",
       "      <td>3.5</td>\n",
       "      <td>3.0</td>\n",
       "      <td>0.40</td>\n",
       "      <td>3.0</td>\n",
       "      <td>14.56</td>\n",
       "      <td>15.84</td>\n",
       "    </tr>\n",
       "    <tr>\n",
       "      <th>150</th>\n",
       "      <td>652</td>\n",
       "      <td>0.71</td>\n",
       "      <td>710.5</td>\n",
       "      <td>269.5</td>\n",
       "      <td>220.5</td>\n",
       "      <td>3.5</td>\n",
       "      <td>2.0</td>\n",
       "      <td>0.40</td>\n",
       "      <td>3.0</td>\n",
       "      <td>14.07</td>\n",
       "      <td>16.11</td>\n",
       "    </tr>\n",
       "    <tr>\n",
       "      <th>151</th>\n",
       "      <td>277</td>\n",
       "      <td>0.66</td>\n",
       "      <td>759.5</td>\n",
       "      <td>318.5</td>\n",
       "      <td>220.5</td>\n",
       "      <td>3.5</td>\n",
       "      <td>3.0</td>\n",
       "      <td>0.10</td>\n",
       "      <td>5.0</td>\n",
       "      <td>11.34</td>\n",
       "      <td>14.81</td>\n",
       "    </tr>\n",
       "    <tr>\n",
       "      <th>152</th>\n",
       "      <td>155</td>\n",
       "      <td>0.86</td>\n",
       "      <td>588.0</td>\n",
       "      <td>294.0</td>\n",
       "      <td>147.0</td>\n",
       "      <td>7.0</td>\n",
       "      <td>5.0</td>\n",
       "      <td>0.10</td>\n",
       "      <td>3.0</td>\n",
       "      <td>26.46</td>\n",
       "      <td>27.40</td>\n",
       "    </tr>\n",
       "    <tr>\n",
       "      <th>153</th>\n",
       "      <td>478</td>\n",
       "      <td>0.62</td>\n",
       "      <td>808.5</td>\n",
       "      <td>367.5</td>\n",
       "      <td>220.5</td>\n",
       "      <td>3.5</td>\n",
       "      <td>4.0</td>\n",
       "      <td>0.25</td>\n",
       "      <td>4.0</td>\n",
       "      <td>14.61</td>\n",
       "      <td>15.07</td>\n",
       "    </tr>\n",
       "  </tbody>\n",
       "</table>\n",
       "<p>154 rows × 11 columns</p>\n",
       "</div>"
      ],
      "text/plain": [
       "     index  Relative Compactness  Surface Area  Wall Area  Roof Area  \\\n",
       "0      408                  0.74         686.0      245.0      220.5   \n",
       "1      140                  0.62         808.5      367.5      220.5   \n",
       "2      156                  0.82         612.5      318.5      147.0   \n",
       "3      334                  0.62         808.5      367.5      220.5   \n",
       "4      745                  0.74         686.0      245.0      220.5   \n",
       "..     ...                   ...           ...        ...        ...   \n",
       "149    657                  0.69         735.0      294.0      220.5   \n",
       "150    652                  0.71         710.5      269.5      220.5   \n",
       "151    277                  0.66         759.5      318.5      220.5   \n",
       "152    155                  0.86         588.0      294.0      147.0   \n",
       "153    478                  0.62         808.5      367.5      220.5   \n",
       "\n",
       "     Overall Height  Orientation  Glazing Area  Glazing Area Distribution  \\\n",
       "0               3.5          2.0          0.25                        3.0   \n",
       "1               3.5          2.0          0.10                        2.0   \n",
       "2               7.0          2.0          0.10                        3.0   \n",
       "3               3.5          4.0          0.25                        1.0   \n",
       "4               3.5          3.0          0.40                        5.0   \n",
       "..              ...          ...           ...                        ...   \n",
       "149             3.5          3.0          0.40                        3.0   \n",
       "150             3.5          2.0          0.40                        3.0   \n",
       "151             3.5          3.0          0.10                        5.0   \n",
       "152             7.0          5.0          0.10                        3.0   \n",
       "153             3.5          4.0          0.25                        4.0   \n",
       "\n",
       "     Heating Load  Cooling Load  \n",
       "0           11.80         14.49  \n",
       "1           12.88         14.37  \n",
       "2           22.93         28.68  \n",
       "3           15.08         15.77  \n",
       "4           14.19         16.62  \n",
       "..            ...           ...  \n",
       "149         14.56         15.84  \n",
       "150         14.07         16.11  \n",
       "151         11.34         14.81  \n",
       "152         26.46         27.40  \n",
       "153         14.61         15.07  \n",
       "\n",
       "[154 rows x 11 columns]"
      ]
     },
     "execution_count": 69,
     "metadata": {},
     "output_type": "execute_result"
    }
   ],
   "source": [
    "test = test.reset_index()\n",
    "test"
   ]
  },
  {
   "cell_type": "markdown",
   "metadata": {},
   "source": [
    "### Building the models "
   ]
  },
  {
   "cell_type": "code",
   "execution_count": 70,
   "metadata": {
    "ExecuteTime": {
     "end_time": "2021-02-05T07:05:14.421307Z",
     "start_time": "2021-02-05T07:05:14.282210Z"
    }
   },
   "outputs": [],
   "source": [
    "models={}\n",
    "\n",
    "for side in orientations:\n",
    "    y = train[\"Orientation\"]== side\n",
    "    \n",
    "    logReg = LogisticRegression()\n",
    "    logReg.fit(train[features], y)\n",
    "    \n",
    "    models[side] = logReg"
   ]
  },
  {
   "cell_type": "code",
   "execution_count": 71,
   "metadata": {
    "ExecuteTime": {
     "end_time": "2021-02-05T07:05:14.805648Z",
     "start_time": "2021-02-05T07:05:14.792649Z"
    }
   },
   "outputs": [
    {
     "data": {
      "text/plain": [
       "{2.0: LogisticRegression(),\n",
       " 3.0: LogisticRegression(),\n",
       " 4.0: LogisticRegression(),\n",
       " 5.0: LogisticRegression()}"
      ]
     },
     "execution_count": 71,
     "metadata": {},
     "output_type": "execute_result"
    }
   ],
   "source": [
    "models"
   ]
  },
  {
   "cell_type": "code",
   "execution_count": 72,
   "metadata": {
    "ExecuteTime": {
     "end_time": "2021-02-05T07:05:15.279052Z",
     "start_time": "2021-02-05T07:05:15.244025Z"
    }
   },
   "outputs": [],
   "source": [
    "testing_probs = pd.DataFrame(columns=orientations)\n",
    "\n",
    "for side in orientations:\n",
    "    probability = models[side].predict_proba(test[features])\n",
    "    testing_probs[side] = probability[:,1]"
   ]
  },
  {
   "cell_type": "code",
   "execution_count": 73,
   "metadata": {
    "ExecuteTime": {
     "end_time": "2021-02-05T07:05:15.782537Z",
     "start_time": "2021-02-05T07:05:15.755519Z"
    }
   },
   "outputs": [
    {
     "data": {
      "text/html": [
       "<div>\n",
       "<style scoped>\n",
       "    .dataframe tbody tr th:only-of-type {\n",
       "        vertical-align: middle;\n",
       "    }\n",
       "\n",
       "    .dataframe tbody tr th {\n",
       "        vertical-align: top;\n",
       "    }\n",
       "\n",
       "    .dataframe thead th {\n",
       "        text-align: right;\n",
       "    }\n",
       "</style>\n",
       "<table border=\"1\" class=\"dataframe\">\n",
       "  <thead>\n",
       "    <tr style=\"text-align: right;\">\n",
       "      <th></th>\n",
       "      <th>2.0</th>\n",
       "      <th>3.0</th>\n",
       "      <th>4.0</th>\n",
       "      <th>5.0</th>\n",
       "    </tr>\n",
       "  </thead>\n",
       "  <tbody>\n",
       "    <tr>\n",
       "      <th>0</th>\n",
       "      <td>0.239682</td>\n",
       "      <td>0.258738</td>\n",
       "      <td>0.257989</td>\n",
       "      <td>0.256457</td>\n",
       "    </tr>\n",
       "    <tr>\n",
       "      <th>1</th>\n",
       "      <td>0.253950</td>\n",
       "      <td>0.270006</td>\n",
       "      <td>0.231563</td>\n",
       "      <td>0.234440</td>\n",
       "    </tr>\n",
       "    <tr>\n",
       "      <th>2</th>\n",
       "      <td>0.271569</td>\n",
       "      <td>0.175010</td>\n",
       "      <td>0.271151</td>\n",
       "      <td>0.298815</td>\n",
       "    </tr>\n",
       "    <tr>\n",
       "      <th>3</th>\n",
       "      <td>0.251588</td>\n",
       "      <td>0.285561</td>\n",
       "      <td>0.227923</td>\n",
       "      <td>0.222717</td>\n",
       "    </tr>\n",
       "    <tr>\n",
       "      <th>4</th>\n",
       "      <td>0.237518</td>\n",
       "      <td>0.261338</td>\n",
       "      <td>0.254014</td>\n",
       "      <td>0.252945</td>\n",
       "    </tr>\n",
       "    <tr>\n",
       "      <th>...</th>\n",
       "      <td>...</td>\n",
       "      <td>...</td>\n",
       "      <td>...</td>\n",
       "      <td>...</td>\n",
       "    </tr>\n",
       "    <tr>\n",
       "      <th>149</th>\n",
       "      <td>0.242980</td>\n",
       "      <td>0.281503</td>\n",
       "      <td>0.243122</td>\n",
       "      <td>0.233557</td>\n",
       "    </tr>\n",
       "    <tr>\n",
       "      <th>150</th>\n",
       "      <td>0.240946</td>\n",
       "      <td>0.267780</td>\n",
       "      <td>0.249096</td>\n",
       "      <td>0.246696</td>\n",
       "    </tr>\n",
       "    <tr>\n",
       "      <th>151</th>\n",
       "      <td>0.250500</td>\n",
       "      <td>0.234712</td>\n",
       "      <td>0.244297</td>\n",
       "      <td>0.268975</td>\n",
       "    </tr>\n",
       "    <tr>\n",
       "      <th>152</th>\n",
       "      <td>0.261214</td>\n",
       "      <td>0.267669</td>\n",
       "      <td>0.268126</td>\n",
       "      <td>0.217693</td>\n",
       "    </tr>\n",
       "    <tr>\n",
       "      <th>153</th>\n",
       "      <td>0.251883</td>\n",
       "      <td>0.291719</td>\n",
       "      <td>0.228526</td>\n",
       "      <td>0.219076</td>\n",
       "    </tr>\n",
       "  </tbody>\n",
       "</table>\n",
       "<p>154 rows × 4 columns</p>\n",
       "</div>"
      ],
      "text/plain": [
       "          2.0       3.0       4.0       5.0\n",
       "0    0.239682  0.258738  0.257989  0.256457\n",
       "1    0.253950  0.270006  0.231563  0.234440\n",
       "2    0.271569  0.175010  0.271151  0.298815\n",
       "3    0.251588  0.285561  0.227923  0.222717\n",
       "4    0.237518  0.261338  0.254014  0.252945\n",
       "..        ...       ...       ...       ...\n",
       "149  0.242980  0.281503  0.243122  0.233557\n",
       "150  0.240946  0.267780  0.249096  0.246696\n",
       "151  0.250500  0.234712  0.244297  0.268975\n",
       "152  0.261214  0.267669  0.268126  0.217693\n",
       "153  0.251883  0.291719  0.228526  0.219076\n",
       "\n",
       "[154 rows x 4 columns]"
      ]
     },
     "execution_count": 73,
     "metadata": {},
     "output_type": "execute_result"
    }
   ],
   "source": [
    "testing_probs"
   ]
  },
  {
   "cell_type": "code",
   "execution_count": 74,
   "metadata": {
    "ExecuteTime": {
     "end_time": "2021-02-05T07:05:16.488001Z",
     "start_time": "2021-02-05T07:05:16.475993Z"
    }
   },
   "outputs": [
    {
     "data": {
      "text/plain": [
       "0      3.0\n",
       "1      3.0\n",
       "2      5.0\n",
       "3      3.0\n",
       "4      3.0\n",
       "      ... \n",
       "149    3.0\n",
       "150    3.0\n",
       "151    5.0\n",
       "152    4.0\n",
       "153    3.0\n",
       "Length: 154, dtype: float64"
      ]
     },
     "execution_count": 74,
     "metadata": {},
     "output_type": "execute_result"
    }
   ],
   "source": [
    "predicted_orientation = testing_probs.idxmax(axis=1)\n",
    "predicted_orientation"
   ]
  },
  {
   "cell_type": "code",
   "execution_count": 75,
   "metadata": {
    "ExecuteTime": {
     "end_time": "2021-02-05T07:05:16.994631Z",
     "start_time": "2021-02-05T07:05:16.971613Z"
    }
   },
   "outputs": [
    {
     "data": {
      "text/html": [
       "<div>\n",
       "<style scoped>\n",
       "    .dataframe tbody tr th:only-of-type {\n",
       "        vertical-align: middle;\n",
       "    }\n",
       "\n",
       "    .dataframe tbody tr th {\n",
       "        vertical-align: top;\n",
       "    }\n",
       "\n",
       "    .dataframe thead th {\n",
       "        text-align: right;\n",
       "    }\n",
       "</style>\n",
       "<table border=\"1\" class=\"dataframe\">\n",
       "  <thead>\n",
       "    <tr style=\"text-align: right;\">\n",
       "      <th></th>\n",
       "      <th>Orientation</th>\n",
       "      <th>Predictions</th>\n",
       "    </tr>\n",
       "  </thead>\n",
       "  <tbody>\n",
       "    <tr>\n",
       "      <th>0</th>\n",
       "      <td>2.0</td>\n",
       "      <td>3.0</td>\n",
       "    </tr>\n",
       "    <tr>\n",
       "      <th>1</th>\n",
       "      <td>2.0</td>\n",
       "      <td>3.0</td>\n",
       "    </tr>\n",
       "    <tr>\n",
       "      <th>2</th>\n",
       "      <td>2.0</td>\n",
       "      <td>5.0</td>\n",
       "    </tr>\n",
       "    <tr>\n",
       "      <th>3</th>\n",
       "      <td>4.0</td>\n",
       "      <td>3.0</td>\n",
       "    </tr>\n",
       "    <tr>\n",
       "      <th>4</th>\n",
       "      <td>3.0</td>\n",
       "      <td>3.0</td>\n",
       "    </tr>\n",
       "    <tr>\n",
       "      <th>...</th>\n",
       "      <td>...</td>\n",
       "      <td>...</td>\n",
       "    </tr>\n",
       "    <tr>\n",
       "      <th>149</th>\n",
       "      <td>3.0</td>\n",
       "      <td>3.0</td>\n",
       "    </tr>\n",
       "    <tr>\n",
       "      <th>150</th>\n",
       "      <td>2.0</td>\n",
       "      <td>3.0</td>\n",
       "    </tr>\n",
       "    <tr>\n",
       "      <th>151</th>\n",
       "      <td>3.0</td>\n",
       "      <td>5.0</td>\n",
       "    </tr>\n",
       "    <tr>\n",
       "      <th>152</th>\n",
       "      <td>5.0</td>\n",
       "      <td>4.0</td>\n",
       "    </tr>\n",
       "    <tr>\n",
       "      <th>153</th>\n",
       "      <td>4.0</td>\n",
       "      <td>3.0</td>\n",
       "    </tr>\n",
       "  </tbody>\n",
       "</table>\n",
       "<p>154 rows × 2 columns</p>\n",
       "</div>"
      ],
      "text/plain": [
       "     Orientation  Predictions\n",
       "0            2.0          3.0\n",
       "1            2.0          3.0\n",
       "2            2.0          5.0\n",
       "3            4.0          3.0\n",
       "4            3.0          3.0\n",
       "..           ...          ...\n",
       "149          3.0          3.0\n",
       "150          2.0          3.0\n",
       "151          3.0          5.0\n",
       "152          5.0          4.0\n",
       "153          4.0          3.0\n",
       "\n",
       "[154 rows x 2 columns]"
      ]
     },
     "execution_count": 75,
     "metadata": {},
     "output_type": "execute_result"
    }
   ],
   "source": [
    "test[\"Predictions\"] = predicted_orientation\n",
    "test[[\"Orientation\", \"Predictions\"]]"
   ]
  },
  {
   "cell_type": "code",
   "execution_count": 76,
   "metadata": {
    "ExecuteTime": {
     "end_time": "2021-02-05T07:05:17.585596Z",
     "start_time": "2021-02-05T07:05:17.577594Z"
    }
   },
   "outputs": [
    {
     "data": {
      "text/plain": [
       "43"
      ]
     },
     "execution_count": 76,
     "metadata": {},
     "output_type": "execute_result"
    }
   ],
   "source": [
    "(test[\"Orientation\"]==test[\"Predictions\"]).sum()"
   ]
  },
  {
   "cell_type": "markdown",
   "metadata": {},
   "source": [
    "### Building models as a function"
   ]
  },
  {
   "cell_type": "code",
   "execution_count": 77,
   "metadata": {
    "ExecuteTime": {
     "end_time": "2021-02-05T07:05:19.660366Z",
     "start_time": "2021-02-05T07:05:19.647338Z"
    }
   },
   "outputs": [],
   "source": [
    "def calc_predictions(features):\n",
    "    test_copy = test.copy()\n",
    "    models={}\n",
    "\n",
    "    for side in orientations:\n",
    "        y = train[\"Orientation\"]== side\n",
    "\n",
    "        logReg = LogisticRegression()\n",
    "        logReg.fit(train[features], y)\n",
    "\n",
    "        models[side] = logReg\n",
    "        \n",
    "        testing_probs = pd.DataFrame(columns=orientations)\n",
    "\n",
    "    for side in orientations:\n",
    "        probability = models[side].predict_proba(test_copy[features])\n",
    "        testing_probs[side] = probability[:,1]\n",
    "    \n",
    "    predicted_orientation = testing_probs.idxmax(axis=1)\n",
    "    test_copy[\"Predictions\"] = predicted_orientation\n",
    "    correct_predictions = (test_copy[\"Orientation\"]==test_copy[\"Predictions\"]).sum()\n",
    "    \n",
    "    return correct_predictions\n",
    "    #print(correct_ones)"
   ]
  },
  {
   "cell_type": "markdown",
   "metadata": {},
   "source": [
    "### Feature Engineering "
   ]
  },
  {
   "cell_type": "code",
   "execution_count": 78,
   "metadata": {
    "ExecuteTime": {
     "end_time": "2021-02-05T07:05:24.490264Z",
     "start_time": "2021-02-05T07:05:24.483280Z"
    }
   },
   "outputs": [
    {
     "data": {
      "text/plain": [
       "['Relative Compactness',\n",
       " 'Surface Area',\n",
       " 'Wall Area',\n",
       " 'Heating Load',\n",
       " 'Cooling Load']"
      ]
     },
     "execution_count": 78,
     "metadata": {},
     "output_type": "execute_result"
    }
   ],
   "source": [
    "features"
   ]
  },
  {
   "cell_type": "code",
   "execution_count": 79,
   "metadata": {
    "ExecuteTime": {
     "end_time": "2021-02-05T07:05:25.057945Z",
     "start_time": "2021-02-05T07:05:25.052943Z"
    }
   },
   "outputs": [],
   "source": [
    "feature_combinations = []\n",
    "\n",
    "for i in range(1, len(features)+1):\n",
    "    c = combinations([0,1,2,3,4],i)\n",
    "    for j in list(c):\n",
    "        feature_combinations.append(j)\n",
    "        \n",
    "#feature_combinations"
   ]
  },
  {
   "cell_type": "code",
   "execution_count": 80,
   "metadata": {
    "ExecuteTime": {
     "end_time": "2021-02-05T07:05:28.281263Z",
     "start_time": "2021-02-05T07:05:25.491283Z"
    }
   },
   "outputs": [],
   "source": [
    "list_correct_ones = []\n",
    "\n",
    "sanakirja={}\n",
    "for ehto in feature_combinations:\n",
    "    columns = []\n",
    "    for alkio in ehto:\n",
    "        columns.append(features[alkio])\n",
    "    \n",
    "    sanakirja[ehto]=columns\n",
    "    correct_predictions = calc_predictions(columns)\n",
    "    list_correct_ones.append(correct_predictions)\n",
    "    \n",
    "#print(list_correct_ones)\n",
    "#print(sanakirja)"
   ]
  },
  {
   "cell_type": "code",
   "execution_count": 81,
   "metadata": {
    "ExecuteTime": {
     "end_time": "2021-02-05T07:05:30.139976Z",
     "start_time": "2021-02-05T07:05:30.132969Z"
    }
   },
   "outputs": [
    {
     "data": {
      "text/plain": [
       "49"
      ]
     },
     "execution_count": 81,
     "metadata": {},
     "output_type": "execute_result"
    }
   ],
   "source": [
    "#list_correct_ones\n",
    "max(list_correct_ones)"
   ]
  },
  {
   "cell_type": "code",
   "execution_count": 82,
   "metadata": {
    "ExecuteTime": {
     "end_time": "2021-02-05T07:05:35.221293Z",
     "start_time": "2021-02-05T07:05:35.213308Z"
    }
   },
   "outputs": [
    {
     "data": {
      "text/plain": [
       "['Heating Load', 'Cooling Load']"
      ]
     },
     "execution_count": 82,
     "metadata": {},
     "output_type": "execute_result"
    }
   ],
   "source": [
    "max_predictions=max(list_correct_ones)\n",
    "max_predictions_index = list_correct_ones.index(max_predictions)\n",
    "#print(max_predictions_index)\n",
    "sanakirja[feature_combinations[max_predictions_index]]"
   ]
  },
  {
   "cell_type": "code",
   "execution_count": 83,
   "metadata": {
    "ExecuteTime": {
     "end_time": "2021-02-05T07:05:40.360222Z",
     "start_time": "2021-02-05T07:05:40.352214Z"
    }
   },
   "outputs": [
    {
     "data": {
      "text/plain": [
       "0.3181818181818182"
      ]
     },
     "execution_count": 83,
     "metadata": {},
     "output_type": "execute_result"
    }
   ],
   "source": [
    "accuracy = max(list_correct_ones) / len(test)\n",
    "accuracy"
   ]
  },
  {
   "cell_type": "code",
   "execution_count": null,
   "metadata": {},
   "outputs": [],
   "source": []
  },
  {
   "cell_type": "markdown",
   "metadata": {},
   "source": [
    "### Cross-validation "
   ]
  },
  {
   "cell_type": "code",
   "execution_count": 84,
   "metadata": {
    "ExecuteTime": {
     "end_time": "2021-02-05T07:05:52.628293Z",
     "start_time": "2021-02-05T07:05:52.624290Z"
    }
   },
   "outputs": [],
   "source": [
    "from sklearn.model_selection import cross_val_score, KFold"
   ]
  },
  {
   "cell_type": "code",
   "execution_count": 85,
   "metadata": {
    "ExecuteTime": {
     "end_time": "2021-02-05T07:05:53.487017Z",
     "start_time": "2021-02-05T07:05:53.166742Z"
    }
   },
   "outputs": [
    {
     "name": "stderr",
     "output_type": "stream",
     "text": [
      "C:\\Users\\Timo\\anaconda3\\lib\\site-packages\\sklearn\\linear_model\\_logistic.py:765: ConvergenceWarning: lbfgs failed to converge (status=1):\n",
      "STOP: TOTAL NO. of ITERATIONS REACHED LIMIT.\n",
      "\n",
      "Increase the number of iterations (max_iter) or scale the data as shown in:\n",
      "    https://scikit-learn.org/stable/modules/preprocessing.html\n",
      "Please also refer to the documentation for alternative solver options:\n",
      "    https://scikit-learn.org/stable/modules/linear_model.html#logistic-regression\n",
      "  extra_warning_msg=_LOGISTIC_SOLVER_CONVERGENCE_MSG)\n",
      "C:\\Users\\Timo\\anaconda3\\lib\\site-packages\\sklearn\\linear_model\\_logistic.py:765: ConvergenceWarning: lbfgs failed to converge (status=1):\n",
      "STOP: TOTAL NO. of ITERATIONS REACHED LIMIT.\n",
      "\n",
      "Increase the number of iterations (max_iter) or scale the data as shown in:\n",
      "    https://scikit-learn.org/stable/modules/preprocessing.html\n",
      "Please also refer to the documentation for alternative solver options:\n",
      "    https://scikit-learn.org/stable/modules/linear_model.html#logistic-regression\n",
      "  extra_warning_msg=_LOGISTIC_SOLVER_CONVERGENCE_MSG)\n",
      "C:\\Users\\Timo\\anaconda3\\lib\\site-packages\\sklearn\\linear_model\\_logistic.py:765: ConvergenceWarning: lbfgs failed to converge (status=1):\n",
      "STOP: TOTAL NO. of ITERATIONS REACHED LIMIT.\n",
      "\n",
      "Increase the number of iterations (max_iter) or scale the data as shown in:\n",
      "    https://scikit-learn.org/stable/modules/preprocessing.html\n",
      "Please also refer to the documentation for alternative solver options:\n",
      "    https://scikit-learn.org/stable/modules/linear_model.html#logistic-regression\n",
      "  extra_warning_msg=_LOGISTIC_SOLVER_CONVERGENCE_MSG)\n"
     ]
    }
   ],
   "source": [
    "kf = KFold(n_splits= 4, shuffle=True, random_state=14)\n",
    "logReg = LogisticRegression()\n",
    "\n",
    "a = cross_val_score(logReg, test[['Surface Area', 'Heating Load', 'Cooling Load']],\n",
    "                    test[\"Orientation\"], scoring=\"accuracy\", cv=kf)\n"
   ]
  },
  {
   "cell_type": "code",
   "execution_count": 86,
   "metadata": {
    "ExecuteTime": {
     "end_time": "2021-02-05T07:05:57.567228Z",
     "start_time": "2021-02-05T07:05:57.561223Z"
    }
   },
   "outputs": [
    {
     "name": "stdout",
     "output_type": "stream",
     "text": [
      "[0.30769231 0.20512821 0.15789474 0.28947368]\n",
      "0.24\n"
     ]
    }
   ],
   "source": [
    "print(a)\n",
    "print(np.mean(a).round(2))"
   ]
  },
  {
   "cell_type": "code",
   "execution_count": null,
   "metadata": {},
   "outputs": [],
   "source": []
  },
  {
   "cell_type": "markdown",
   "metadata": {},
   "source": [
    "## Decision Tree"
   ]
  },
  {
   "cell_type": "code",
   "execution_count": 87,
   "metadata": {
    "ExecuteTime": {
     "end_time": "2021-02-05T07:06:43.469364Z",
     "start_time": "2021-02-05T07:06:41.375721Z"
    }
   },
   "outputs": [],
   "source": [
    "from sklearn.tree import DecisionTreeClassifier\n",
    "from sklearn.metrics import roc_auc_score"
   ]
  },
  {
   "cell_type": "code",
   "execution_count": 88,
   "metadata": {
    "ExecuteTime": {
     "end_time": "2021-02-05T07:06:44.500764Z",
     "start_time": "2021-02-05T07:06:44.494761Z"
    }
   },
   "outputs": [
    {
     "data": {
      "text/plain": [
       "Index(['Relative Compactness', 'Surface Area', 'Wall Area', 'Roof Area',\n",
       "       'Overall Height', 'Orientation', 'Glazing Area',\n",
       "       'Glazing Area Distribution', 'Heating Load', 'Cooling Load'],\n",
       "      dtype='object')"
      ]
     },
     "execution_count": 88,
     "metadata": {},
     "output_type": "execute_result"
    }
   ],
   "source": [
    "data.columns"
   ]
  },
  {
   "cell_type": "code",
   "execution_count": 90,
   "metadata": {
    "ExecuteTime": {
     "end_time": "2021-02-05T07:07:19.238603Z",
     "start_time": "2021-02-05T07:07:19.233597Z"
    }
   },
   "outputs": [],
   "source": [
    "target=\"Glazing Area\""
   ]
  },
  {
   "cell_type": "code",
   "execution_count": 91,
   "metadata": {
    "ExecuteTime": {
     "end_time": "2021-02-05T07:07:21.728134Z",
     "start_time": "2021-02-05T07:07:21.718123Z"
    }
   },
   "outputs": [
    {
     "data": {
      "text/plain": [
       "0.40    240\n",
       "0.10    240\n",
       "0.25    240\n",
       "0.00     48\n",
       "Name: Glazing Area, dtype: int64"
      ]
     },
     "execution_count": 91,
     "metadata": {},
     "output_type": "execute_result"
    }
   ],
   "source": [
    "data['Glazing Area'].value_counts()"
   ]
  },
  {
   "cell_type": "markdown",
   "metadata": {},
   "source": [
    "Let's divide the column into 2 categories: 'Glazing Area' < 0.25 and 'Glazing Area' >=0.25"
   ]
  },
  {
   "cell_type": "code",
   "execution_count": 124,
   "metadata": {
    "ExecuteTime": {
     "end_time": "2021-02-05T07:12:26.189098Z",
     "start_time": "2021-02-05T07:12:26.185098Z"
    }
   },
   "outputs": [],
   "source": [
    "dataGl = data.copy()"
   ]
  },
  {
   "cell_type": "code",
   "execution_count": 125,
   "metadata": {
    "ExecuteTime": {
     "end_time": "2021-02-05T07:12:26.572369Z",
     "start_time": "2021-02-05T07:12:26.562362Z"
    }
   },
   "outputs": [],
   "source": [
    "dataGl.loc[data['Glazing Area']<0.25, 'Glazing Area']=0\n",
    "dataGl.loc[data['Glazing Area']>=0.25, 'Glazing Area']=1"
   ]
  },
  {
   "cell_type": "code",
   "execution_count": 126,
   "metadata": {
    "ExecuteTime": {
     "end_time": "2021-02-05T07:12:27.133099Z",
     "start_time": "2021-02-05T07:12:27.121088Z"
    }
   },
   "outputs": [
    {
     "data": {
      "text/plain": [
       "1.0    480\n",
       "0.0    288\n",
       "Name: Glazing Area, dtype: int64"
      ]
     },
     "execution_count": 126,
     "metadata": {},
     "output_type": "execute_result"
    }
   ],
   "source": [
    "dataGl['Glazing Area'].value_counts()"
   ]
  },
  {
   "cell_type": "code",
   "execution_count": 127,
   "metadata": {
    "ExecuteTime": {
     "end_time": "2021-02-05T07:12:27.943642Z",
     "start_time": "2021-02-05T07:12:27.937641Z"
    }
   },
   "outputs": [],
   "source": [
    "shuffled_rows = np.random.permutation(dataGl.index)\n",
    "shuffled_rows\n",
    "shuffled_data = dataGl.iloc[shuffled_rows]"
   ]
  },
  {
   "cell_type": "code",
   "execution_count": 128,
   "metadata": {
    "ExecuteTime": {
     "end_time": "2021-02-05T07:12:29.210707Z",
     "start_time": "2021-02-05T07:12:29.202720Z"
    }
   },
   "outputs": [],
   "source": [
    "train, test = train_test_split(shuffled_data, test_size=0.2, random_state=10)"
   ]
  },
  {
   "cell_type": "code",
   "execution_count": 129,
   "metadata": {
    "ExecuteTime": {
     "end_time": "2021-02-05T07:12:30.665375Z",
     "start_time": "2021-02-05T07:12:30.655369Z"
    }
   },
   "outputs": [
    {
     "data": {
      "text/plain": [
       "['Heating Load']"
      ]
     },
     "execution_count": 129,
     "metadata": {},
     "output_type": "execute_result"
    }
   ],
   "source": [
    "features = dataGl.columns\n",
    "#features = ['Heating Load', 'Cooling Load']\n",
    "features = ['Heating Load']\n",
    "#features = ['Wall Area', 'Roof Area']\n",
    "features"
   ]
  },
  {
   "cell_type": "code",
   "execution_count": 130,
   "metadata": {
    "ExecuteTime": {
     "end_time": "2021-02-05T07:12:34.357026Z",
     "start_time": "2021-02-05T07:12:34.326984Z"
    }
   },
   "outputs": [
    {
     "name": "stdout",
     "output_type": "stream",
     "text": [
      "0.9656929347826086\n",
      "0.7719109195402298\n"
     ]
    }
   ],
   "source": [
    "clf = DecisionTreeClassifier(random_state=1)\n",
    "clf.fit(train[features], train[target])\n",
    "\n",
    "predictions_train = clf.predict(train[features])\n",
    "error_train = roc_auc_score(train[target], predictions_train)\n",
    "\n",
    "predictions_test = clf.predict(test[features])\n",
    "error_test = roc_auc_score(test[target], predictions_test)\n",
    "\n",
    "print(error_train)\n",
    "print(error_test)"
   ]
  },
  {
   "cell_type": "markdown",
   "metadata": {},
   "source": [
    "With 1 column as a feature, the model tends to be overfitting. \n",
    "But already with 2 columns as features, the model fits almost perfectly (accuracy in the test dataset is over 90%.)"
   ]
  },
  {
   "cell_type": "markdown",
   "metadata": {},
   "source": [
    "### Random forest "
   ]
  },
  {
   "cell_type": "code",
   "execution_count": 104,
   "metadata": {
    "ExecuteTime": {
     "end_time": "2021-02-05T07:09:20.737293Z",
     "start_time": "2021-02-05T07:09:20.733290Z"
    }
   },
   "outputs": [],
   "source": [
    "from sklearn.ensemble import RandomForestClassifier"
   ]
  },
  {
   "cell_type": "code",
   "execution_count": 131,
   "metadata": {
    "ExecuteTime": {
     "end_time": "2021-02-05T07:12:40.470354Z",
     "start_time": "2021-02-05T07:12:40.436308Z"
    }
   },
   "outputs": [],
   "source": [
    "clf = RandomForestClassifier(n_estimators=5, min_samples_leaf=3, bootstrap=True)\n",
    "clf.fit(train[features], train[target])\n",
    "predictions_test = clf.predict(test[features])\n",
    "error_test = roc_auc_score(test[target], predictions_test)"
   ]
  },
  {
   "cell_type": "code",
   "execution_count": 132,
   "metadata": {
    "ExecuteTime": {
     "end_time": "2021-02-05T07:12:41.070125Z",
     "start_time": "2021-02-05T07:12:41.065122Z"
    }
   },
   "outputs": [
    {
     "name": "stdout",
     "output_type": "stream",
     "text": [
      "0.8013649425287357\n"
     ]
    }
   ],
   "source": [
    "print(error_test)"
   ]
  },
  {
   "cell_type": "code",
   "execution_count": null,
   "metadata": {},
   "outputs": [],
   "source": []
  }
 ],
 "metadata": {
  "kernelspec": {
   "display_name": "Python 3",
   "language": "python",
   "name": "python3"
  },
  "language_info": {
   "codemirror_mode": {
    "name": "ipython",
    "version": 3
   },
   "file_extension": ".py",
   "mimetype": "text/x-python",
   "name": "python",
   "nbconvert_exporter": "python",
   "pygments_lexer": "ipython3",
   "version": "3.7.6"
  },
  "toc": {
   "base_numbering": 1,
   "nav_menu": {},
   "number_sections": true,
   "sideBar": true,
   "skip_h1_title": false,
   "title_cell": "Table of Contents",
   "title_sidebar": "Contents",
   "toc_cell": false,
   "toc_position": {},
   "toc_section_display": true,
   "toc_window_display": false
  },
  "varInspector": {
   "cols": {
    "lenName": 16,
    "lenType": 16,
    "lenVar": 40
   },
   "kernels_config": {
    "python": {
     "delete_cmd_postfix": "",
     "delete_cmd_prefix": "del ",
     "library": "var_list.py",
     "varRefreshCmd": "print(var_dic_list())"
    },
    "r": {
     "delete_cmd_postfix": ") ",
     "delete_cmd_prefix": "rm(",
     "library": "var_list.r",
     "varRefreshCmd": "cat(var_dic_list()) "
    }
   },
   "types_to_exclude": [
    "module",
    "function",
    "builtin_function_or_method",
    "instance",
    "_Feature"
   ],
   "window_display": false
  }
 },
 "nbformat": 4,
 "nbformat_minor": 4
}

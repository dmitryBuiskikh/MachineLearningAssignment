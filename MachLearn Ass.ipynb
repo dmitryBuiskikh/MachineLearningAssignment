{
 "cells": [
  {
   "cell_type": "code",
   "execution_count": 1,
   "metadata": {
    "ExecuteTime": {
     "end_time": "2021-02-05T06:47:38.847932Z",
     "start_time": "2021-02-05T06:47:03.847501Z"
    }
   },
   "outputs": [],
   "source": [
    "import pandas as pd\n",
    "import numpy as np\n",
    "import matplotlib.pyplot as plt\n",
    "import seaborn as sns"
   ]
  },
  {
   "cell_type": "markdown",
   "metadata": {},
   "source": [
    "<b> Energy efficiency Data Set.</b>\n",
    "\n",
    "The dataset is taken from the study that simulated the heating and cooling loads of buildings as a function of building parameters.\n",
    "12 different building shapes were simulated for the purpose of the analysis. The dataset comprises 768 samples and 8 features, aiming to predict two real valued responses.\n",
    "\t"
   ]
  },
  {
   "cell_type": "markdown",
   "metadata": {},
   "source": [
    "Source: http://archive.ics.uci.edu/ml/datasets/Energy+efficiency\n"
   ]
  },
  {
   "cell_type": "markdown",
   "metadata": {},
   "source": [
    "## Importing and tidying the dataset"
   ]
  },
  {
   "cell_type": "code",
   "execution_count": 13,
   "metadata": {
    "ExecuteTime": {
     "end_time": "2021-02-05T06:49:52.349532Z",
     "start_time": "2021-02-05T06:49:52.318284Z"
    }
   },
   "outputs": [],
   "source": [
    "data = pd.read_csv(\"ENB2012_data.csv\", delimiter=\";\", \n",
    "                   usecols = [i for i in range(10)],\n",
    "                   names = [\"Relative Compactness\",\"Surface Area\",\"Wall Area\",\"Roof Area\",\"Overall Height\", \"Orientation\",\n",
    "                           \"Glazing Area\", \"Glazing Area Distribution\", \"Heating Load\", \"Cooling Load\"])\n",
    "\n",
    "data = data[1:]\n",
    "data = data.reset_index()"
   ]
  },
  {
   "cell_type": "code",
   "execution_count": 14,
   "metadata": {
    "ExecuteTime": {
     "end_time": "2021-02-05T06:49:52.990164Z",
     "start_time": "2021-02-05T06:49:52.958914Z"
    },
    "collapsed": true
   },
   "outputs": [
    {
     "name": "stdout",
     "output_type": "stream",
     "text": [
      "<class 'pandas.core.frame.DataFrame'>\n",
      "RangeIndex: 1296 entries, 0 to 1295\n",
      "Data columns (total 11 columns):\n",
      " #   Column                     Non-Null Count  Dtype \n",
      "---  ------                     --------------  ----- \n",
      " 0   index                      1296 non-null   int64 \n",
      " 1   Relative Compactness       768 non-null    object\n",
      " 2   Surface Area               768 non-null    object\n",
      " 3   Wall Area                  768 non-null    object\n",
      " 4   Roof Area                  768 non-null    object\n",
      " 5   Overall Height             768 non-null    object\n",
      " 6   Orientation                768 non-null    object\n",
      " 7   Glazing Area               768 non-null    object\n",
      " 8   Glazing Area Distribution  768 non-null    object\n",
      " 9   Heating Load               768 non-null    object\n",
      " 10  Cooling Load               768 non-null    object\n",
      "dtypes: int64(1), object(10)\n",
      "memory usage: 111.5+ KB\n"
     ]
    }
   ],
   "source": [
    "data.info()"
   ]
  },
  {
   "cell_type": "code",
   "execution_count": 15,
   "metadata": {
    "ExecuteTime": {
     "end_time": "2021-02-05T06:50:19.365504Z",
     "start_time": "2021-02-05T06:50:19.318605Z"
    }
   },
   "outputs": [
    {
     "data": {
      "text/html": [
       "<div>\n",
       "<style scoped>\n",
       "    .dataframe tbody tr th:only-of-type {\n",
       "        vertical-align: middle;\n",
       "    }\n",
       "\n",
       "    .dataframe tbody tr th {\n",
       "        vertical-align: top;\n",
       "    }\n",
       "\n",
       "    .dataframe thead th {\n",
       "        text-align: right;\n",
       "    }\n",
       "</style>\n",
       "<table border=\"1\" class=\"dataframe\">\n",
       "  <thead>\n",
       "    <tr style=\"text-align: right;\">\n",
       "      <th></th>\n",
       "      <th>index</th>\n",
       "      <th>Relative Compactness</th>\n",
       "      <th>Surface Area</th>\n",
       "      <th>Wall Area</th>\n",
       "      <th>Roof Area</th>\n",
       "      <th>Overall Height</th>\n",
       "      <th>Orientation</th>\n",
       "      <th>Glazing Area</th>\n",
       "      <th>Glazing Area Distribution</th>\n",
       "      <th>Heating Load</th>\n",
       "      <th>Cooling Load</th>\n",
       "    </tr>\n",
       "  </thead>\n",
       "  <tbody>\n",
       "    <tr>\n",
       "      <th>0</th>\n",
       "      <td>1</td>\n",
       "      <td>0,98</td>\n",
       "      <td>514,50</td>\n",
       "      <td>294,00</td>\n",
       "      <td>110,25</td>\n",
       "      <td>7,00</td>\n",
       "      <td>2</td>\n",
       "      <td>0,00</td>\n",
       "      <td>0</td>\n",
       "      <td>15,55</td>\n",
       "      <td>21,33</td>\n",
       "    </tr>\n",
       "    <tr>\n",
       "      <th>1</th>\n",
       "      <td>2</td>\n",
       "      <td>0,98</td>\n",
       "      <td>514,50</td>\n",
       "      <td>294,00</td>\n",
       "      <td>110,25</td>\n",
       "      <td>7,00</td>\n",
       "      <td>3</td>\n",
       "      <td>0,00</td>\n",
       "      <td>0</td>\n",
       "      <td>15,55</td>\n",
       "      <td>21,33</td>\n",
       "    </tr>\n",
       "    <tr>\n",
       "      <th>2</th>\n",
       "      <td>3</td>\n",
       "      <td>0,98</td>\n",
       "      <td>514,50</td>\n",
       "      <td>294,00</td>\n",
       "      <td>110,25</td>\n",
       "      <td>7,00</td>\n",
       "      <td>4</td>\n",
       "      <td>0,00</td>\n",
       "      <td>0</td>\n",
       "      <td>15,55</td>\n",
       "      <td>21,33</td>\n",
       "    </tr>\n",
       "    <tr>\n",
       "      <th>3</th>\n",
       "      <td>4</td>\n",
       "      <td>0,98</td>\n",
       "      <td>514,50</td>\n",
       "      <td>294,00</td>\n",
       "      <td>110,25</td>\n",
       "      <td>7,00</td>\n",
       "      <td>5</td>\n",
       "      <td>0,00</td>\n",
       "      <td>0</td>\n",
       "      <td>15,55</td>\n",
       "      <td>21,33</td>\n",
       "    </tr>\n",
       "    <tr>\n",
       "      <th>4</th>\n",
       "      <td>5</td>\n",
       "      <td>0,90</td>\n",
       "      <td>563,50</td>\n",
       "      <td>318,50</td>\n",
       "      <td>122,50</td>\n",
       "      <td>7,00</td>\n",
       "      <td>2</td>\n",
       "      <td>0,00</td>\n",
       "      <td>0</td>\n",
       "      <td>20,84</td>\n",
       "      <td>28,28</td>\n",
       "    </tr>\n",
       "  </tbody>\n",
       "</table>\n",
       "</div>"
      ],
      "text/plain": [
       "   index Relative Compactness Surface Area Wall Area Roof Area Overall Height  \\\n",
       "0      1                 0,98       514,50    294,00    110,25           7,00   \n",
       "1      2                 0,98       514,50    294,00    110,25           7,00   \n",
       "2      3                 0,98       514,50    294,00    110,25           7,00   \n",
       "3      4                 0,98       514,50    294,00    110,25           7,00   \n",
       "4      5                 0,90       563,50    318,50    122,50           7,00   \n",
       "\n",
       "  Orientation Glazing Area Glazing Area Distribution Heating Load Cooling Load  \n",
       "0           2         0,00                         0        15,55        21,33  \n",
       "1           3         0,00                         0        15,55        21,33  \n",
       "2           4         0,00                         0        15,55        21,33  \n",
       "3           5         0,00                         0        15,55        21,33  \n",
       "4           2         0,00                         0        20,84        28,28  "
      ]
     },
     "execution_count": 15,
     "metadata": {},
     "output_type": "execute_result"
    }
   ],
   "source": [
    "data.head()"
   ]
  },
  {
   "cell_type": "code",
   "execution_count": 16,
   "metadata": {
    "ExecuteTime": {
     "end_time": "2021-02-05T06:50:19.740504Z",
     "start_time": "2021-02-05T06:50:19.678035Z"
    }
   },
   "outputs": [],
   "source": [
    "data = data.replace(\",\", \".\", regex=True)"
   ]
  },
  {
   "cell_type": "code",
   "execution_count": 17,
   "metadata": {
    "ExecuteTime": {
     "end_time": "2021-02-05T06:50:20.381122Z",
     "start_time": "2021-02-05T06:50:20.349871Z"
    }
   },
   "outputs": [
    {
     "data": {
      "text/html": [
       "<div>\n",
       "<style scoped>\n",
       "    .dataframe tbody tr th:only-of-type {\n",
       "        vertical-align: middle;\n",
       "    }\n",
       "\n",
       "    .dataframe tbody tr th {\n",
       "        vertical-align: top;\n",
       "    }\n",
       "\n",
       "    .dataframe thead th {\n",
       "        text-align: right;\n",
       "    }\n",
       "</style>\n",
       "<table border=\"1\" class=\"dataframe\">\n",
       "  <thead>\n",
       "    <tr style=\"text-align: right;\">\n",
       "      <th></th>\n",
       "      <th>index</th>\n",
       "      <th>Relative Compactness</th>\n",
       "      <th>Surface Area</th>\n",
       "      <th>Wall Area</th>\n",
       "      <th>Roof Area</th>\n",
       "      <th>Overall Height</th>\n",
       "      <th>Orientation</th>\n",
       "      <th>Glazing Area</th>\n",
       "      <th>Glazing Area Distribution</th>\n",
       "      <th>Heating Load</th>\n",
       "      <th>Cooling Load</th>\n",
       "    </tr>\n",
       "  </thead>\n",
       "  <tbody>\n",
       "    <tr>\n",
       "      <th>0</th>\n",
       "      <td>1</td>\n",
       "      <td>0.98</td>\n",
       "      <td>514.50</td>\n",
       "      <td>294.00</td>\n",
       "      <td>110.25</td>\n",
       "      <td>7.00</td>\n",
       "      <td>2</td>\n",
       "      <td>0.00</td>\n",
       "      <td>0</td>\n",
       "      <td>15.55</td>\n",
       "      <td>21.33</td>\n",
       "    </tr>\n",
       "    <tr>\n",
       "      <th>1</th>\n",
       "      <td>2</td>\n",
       "      <td>0.98</td>\n",
       "      <td>514.50</td>\n",
       "      <td>294.00</td>\n",
       "      <td>110.25</td>\n",
       "      <td>7.00</td>\n",
       "      <td>3</td>\n",
       "      <td>0.00</td>\n",
       "      <td>0</td>\n",
       "      <td>15.55</td>\n",
       "      <td>21.33</td>\n",
       "    </tr>\n",
       "    <tr>\n",
       "      <th>2</th>\n",
       "      <td>3</td>\n",
       "      <td>0.98</td>\n",
       "      <td>514.50</td>\n",
       "      <td>294.00</td>\n",
       "      <td>110.25</td>\n",
       "      <td>7.00</td>\n",
       "      <td>4</td>\n",
       "      <td>0.00</td>\n",
       "      <td>0</td>\n",
       "      <td>15.55</td>\n",
       "      <td>21.33</td>\n",
       "    </tr>\n",
       "    <tr>\n",
       "      <th>3</th>\n",
       "      <td>4</td>\n",
       "      <td>0.98</td>\n",
       "      <td>514.50</td>\n",
       "      <td>294.00</td>\n",
       "      <td>110.25</td>\n",
       "      <td>7.00</td>\n",
       "      <td>5</td>\n",
       "      <td>0.00</td>\n",
       "      <td>0</td>\n",
       "      <td>15.55</td>\n",
       "      <td>21.33</td>\n",
       "    </tr>\n",
       "    <tr>\n",
       "      <th>4</th>\n",
       "      <td>5</td>\n",
       "      <td>0.90</td>\n",
       "      <td>563.50</td>\n",
       "      <td>318.50</td>\n",
       "      <td>122.50</td>\n",
       "      <td>7.00</td>\n",
       "      <td>2</td>\n",
       "      <td>0.00</td>\n",
       "      <td>0</td>\n",
       "      <td>20.84</td>\n",
       "      <td>28.28</td>\n",
       "    </tr>\n",
       "  </tbody>\n",
       "</table>\n",
       "</div>"
      ],
      "text/plain": [
       "   index Relative Compactness Surface Area Wall Area Roof Area Overall Height  \\\n",
       "0      1                 0.98       514.50    294.00    110.25           7.00   \n",
       "1      2                 0.98       514.50    294.00    110.25           7.00   \n",
       "2      3                 0.98       514.50    294.00    110.25           7.00   \n",
       "3      4                 0.98       514.50    294.00    110.25           7.00   \n",
       "4      5                 0.90       563.50    318.50    122.50           7.00   \n",
       "\n",
       "  Orientation Glazing Area Glazing Area Distribution Heating Load Cooling Load  \n",
       "0           2         0.00                         0        15.55        21.33  \n",
       "1           3         0.00                         0        15.55        21.33  \n",
       "2           4         0.00                         0        15.55        21.33  \n",
       "3           5         0.00                         0        15.55        21.33  \n",
       "4           2         0.00                         0        20.84        28.28  "
      ]
     },
     "execution_count": 17,
     "metadata": {},
     "output_type": "execute_result"
    }
   ],
   "source": [
    "data.head()"
   ]
  },
  {
   "cell_type": "code",
   "execution_count": 18,
   "metadata": {
    "ExecuteTime": {
     "end_time": "2021-02-05T06:50:24.256166Z",
     "start_time": "2021-02-05T06:50:24.240539Z"
    }
   },
   "outputs": [],
   "source": [
    "data=data.apply(pd.to_numeric)"
   ]
  },
  {
   "cell_type": "code",
   "execution_count": 19,
   "metadata": {
    "ExecuteTime": {
     "end_time": "2021-02-05T06:50:24.631174Z",
     "start_time": "2021-02-05T06:50:24.599920Z"
    }
   },
   "outputs": [
    {
     "name": "stdout",
     "output_type": "stream",
     "text": [
      "<class 'pandas.core.frame.DataFrame'>\n",
      "RangeIndex: 1296 entries, 0 to 1295\n",
      "Data columns (total 11 columns):\n",
      " #   Column                     Non-Null Count  Dtype  \n",
      "---  ------                     --------------  -----  \n",
      " 0   index                      1296 non-null   int64  \n",
      " 1   Relative Compactness       768 non-null    float64\n",
      " 2   Surface Area               768 non-null    float64\n",
      " 3   Wall Area                  768 non-null    float64\n",
      " 4   Roof Area                  768 non-null    float64\n",
      " 5   Overall Height             768 non-null    float64\n",
      " 6   Orientation                768 non-null    float64\n",
      " 7   Glazing Area               768 non-null    float64\n",
      " 8   Glazing Area Distribution  768 non-null    float64\n",
      " 9   Heating Load               768 non-null    float64\n",
      " 10  Cooling Load               768 non-null    float64\n",
      "dtypes: float64(10), int64(1)\n",
      "memory usage: 111.5 KB\n"
     ]
    }
   ],
   "source": [
    "data.info()"
   ]
  },
  {
   "cell_type": "code",
   "execution_count": 20,
   "metadata": {
    "ExecuteTime": {
     "end_time": "2021-02-05T06:50:27.568724Z",
     "start_time": "2021-02-05T06:50:27.537508Z"
    }
   },
   "outputs": [
    {
     "data": {
      "text/plain": [
       "index                          0\n",
       "Relative Compactness         528\n",
       "Surface Area                 528\n",
       "Wall Area                    528\n",
       "Roof Area                    528\n",
       "Overall Height               528\n",
       "Orientation                  528\n",
       "Glazing Area                 528\n",
       "Glazing Area Distribution    528\n",
       "Heating Load                 528\n",
       "Cooling Load                 528\n",
       "dtype: int64"
      ]
     },
     "execution_count": 20,
     "metadata": {},
     "output_type": "execute_result"
    }
   ],
   "source": [
    "data.isnull().sum()"
   ]
  },
  {
   "cell_type": "code",
   "execution_count": 21,
   "metadata": {
    "ExecuteTime": {
     "end_time": "2021-02-05T06:50:28.287464Z",
     "start_time": "2021-02-05T06:50:27.865586Z"
    }
   },
   "outputs": [
    {
     "data": {
      "text/plain": [
       "<AxesSubplot:>"
      ]
     },
     "execution_count": 21,
     "metadata": {},
     "output_type": "execute_result"
    },
    {
     "data": {
      "image/png": "[encoded data removed]",
      "text/plain": [
       "<Figure size 432x288 with 1 Axes>"
      ]
     },
     "metadata": {
      "needs_background": "light"
     },
     "output_type": "display_data"
    }
   ],
   "source": [
    "sns.heatmap(data.isnull(), cbar=False)"
   ]
  },
  {
   "cell_type": "code",
   "execution_count": 22,
   "metadata": {
    "ExecuteTime": {
     "end_time": "2021-02-05T06:50:31.490645Z",
     "start_time": "2021-02-05T06:50:31.459432Z"
    }
   },
   "outputs": [],
   "source": [
    "data = data.dropna()"
   ]
  },
  {
   "cell_type": "code",
   "execution_count": 23,
   "metadata": {
    "ExecuteTime": {
     "end_time": "2021-02-05T06:50:32.271885Z",
     "start_time": "2021-02-05T06:50:31.912516Z"
    }
   },
   "outputs": [
    {
     "data": {
      "text/plain": [
       "<AxesSubplot:>"
      ]
     },
     "execution_count": 23,
     "metadata": {},
     "output_type": "execute_result"
    },
    {
     "data": {
      "image/png": "[encoded data removed]",
      "text/plain": [
       "<Figure size 432x288 with 1 Axes>"
      ]
     },
     "metadata": {
      "needs_background": "light"
     },
     "output_type": "display_data"
    }
   ],
   "source": [
    "sns.heatmap(data.isnull(), cbar=False)"
   ]
  },
  {
   "cell_type": "code",
   "execution_count": null,
   "metadata": {},
   "outputs": [],
   "source": []
  },
  {
   "cell_type": "markdown",
   "metadata": {},
   "source": [
    "## Splitting the dataset"
   ]
  },
  {
   "cell_type": "code",
   "execution_count": 85,
   "metadata": {
    "ExecuteTime": {
     "end_time": "2021-02-04T21:50:27.640080Z",
     "start_time": "2021-02-04T21:50:14.780593Z"
    }
   },
   "outputs": [],
   "source": [
    "from sklearn.model_selection import train_test_split"
   ]
  },
  {
   "cell_type": "code",
   "execution_count": 86,
   "metadata": {
    "ExecuteTime": {
     "end_time": "2021-02-04T21:53:26.853061Z",
     "start_time": "2021-02-04T21:53:26.774940Z"
    }
   },
   "outputs": [],
   "source": [
    "train, test = train_test_split(data, test_size=0.2, random_state=12)"
   ]
  },
  {
   "cell_type": "code",
   "execution_count": 88,
   "metadata": {
    "ExecuteTime": {
     "end_time": "2021-02-04T21:54:10.806662Z",
     "start_time": "2021-02-04T21:54:10.775412Z"
    },
    "collapsed": true
   },
   "outputs": [
    {
     "name": "stdout",
     "output_type": "stream",
     "text": [
      "<class 'pandas.core.frame.DataFrame'>\n",
      "Int64Index: 154 entries, 230 to 539\n",
      "Data columns (total 10 columns):\n",
      " #   Column                     Non-Null Count  Dtype  \n",
      "---  ------                     --------------  -----  \n",
      " 0   Relative Compactness       154 non-null    float64\n",
      " 1   Surface Area               154 non-null    float64\n",
      " 2   Wall Area                  154 non-null    float64\n",
      " 3   Roof Area                  154 non-null    float64\n",
      " 4   Overall Height             154 non-null    float64\n",
      " 5   Orientation                154 non-null    float64\n",
      " 6   Glazing Area               154 non-null    float64\n",
      " 7   Glazing Area Distribution  154 non-null    float64\n",
      " 8   Heating Load               154 non-null    float64\n",
      " 9   Cooling Load               154 non-null    float64\n",
      "dtypes: float64(10)\n",
      "memory usage: 13.2 KB\n"
     ]
    }
   ],
   "source": [
    "test.info()"
   ]
  },
  {
   "cell_type": "markdown",
   "metadata": {},
   "source": [
    "## Linear Regression"
   ]
  },
  {
   "cell_type": "code",
   "execution_count": 102,
   "metadata": {
    "ExecuteTime": {
     "end_time": "2021-02-04T22:18:55.568661Z",
     "start_time": "2021-02-04T22:18:55.553091Z"
    }
   },
   "outputs": [],
   "source": [
    "from sklearn.linear_model import LinearRegression\n",
    "from sklearn.metrics import mean_squared_error"
   ]
  },
  {
   "cell_type": "markdown",
   "metadata": {},
   "source": [
    "Target columns: \n",
    "- \"Heating Load\", \n",
    "- \"Cooling Load\""
   ]
  },
  {
   "cell_type": "code",
   "execution_count": 96,
   "metadata": {
    "ExecuteTime": {
     "end_time": "2021-02-04T22:14:17.330955Z",
     "start_time": "2021-02-04T22:14:17.315363Z"
    }
   },
   "outputs": [],
   "source": [
    "target = \"Heating Load\""
   ]
  },
  {
   "cell_type": "code",
   "execution_count": 91,
   "metadata": {
    "ExecuteTime": {
     "end_time": "2021-02-04T22:00:55.442571Z",
     "start_time": "2021-02-04T22:00:55.395752Z"
    }
   },
   "outputs": [
    {
     "data": {
      "text/html": [
       "<div>\n",
       "<style scoped>\n",
       "    .dataframe tbody tr th:only-of-type {\n",
       "        vertical-align: middle;\n",
       "    }\n",
       "\n",
       "    .dataframe tbody tr th {\n",
       "        vertical-align: top;\n",
       "    }\n",
       "\n",
       "    .dataframe thead th {\n",
       "        text-align: right;\n",
       "    }\n",
       "</style>\n",
       "<table border=\"1\" class=\"dataframe\">\n",
       "  <thead>\n",
       "    <tr style=\"text-align: right;\">\n",
       "      <th></th>\n",
       "      <th>Relative Compactness</th>\n",
       "      <th>Surface Area</th>\n",
       "      <th>Wall Area</th>\n",
       "      <th>Roof Area</th>\n",
       "      <th>Overall Height</th>\n",
       "      <th>Orientation</th>\n",
       "      <th>Glazing Area</th>\n",
       "      <th>Glazing Area Distribution</th>\n",
       "      <th>Heating Load</th>\n",
       "      <th>Cooling Load</th>\n",
       "    </tr>\n",
       "  </thead>\n",
       "  <tbody>\n",
       "    <tr>\n",
       "      <th>Relative Compactness</th>\n",
       "      <td>1.000000e+00</td>\n",
       "      <td>-9.919015e-01</td>\n",
       "      <td>-2.037817e-01</td>\n",
       "      <td>-8.688234e-01</td>\n",
       "      <td>8.277473e-01</td>\n",
       "      <td>0.000000</td>\n",
       "      <td>1.283986e-17</td>\n",
       "      <td>1.764620e-17</td>\n",
       "      <td>0.622272</td>\n",
       "      <td>0.634339</td>\n",
       "    </tr>\n",
       "    <tr>\n",
       "      <th>Surface Area</th>\n",
       "      <td>-9.919015e-01</td>\n",
       "      <td>1.000000e+00</td>\n",
       "      <td>1.955016e-01</td>\n",
       "      <td>8.807195e-01</td>\n",
       "      <td>-8.581477e-01</td>\n",
       "      <td>0.000000</td>\n",
       "      <td>1.318356e-16</td>\n",
       "      <td>-3.558613e-16</td>\n",
       "      <td>-0.658120</td>\n",
       "      <td>-0.672999</td>\n",
       "    </tr>\n",
       "    <tr>\n",
       "      <th>Wall Area</th>\n",
       "      <td>-2.037817e-01</td>\n",
       "      <td>1.955016e-01</td>\n",
       "      <td>1.000000e+00</td>\n",
       "      <td>-2.923165e-01</td>\n",
       "      <td>2.809757e-01</td>\n",
       "      <td>0.000000</td>\n",
       "      <td>-7.969726e-19</td>\n",
       "      <td>0.000000e+00</td>\n",
       "      <td>0.455671</td>\n",
       "      <td>0.427117</td>\n",
       "    </tr>\n",
       "    <tr>\n",
       "      <th>Roof Area</th>\n",
       "      <td>-8.688234e-01</td>\n",
       "      <td>8.807195e-01</td>\n",
       "      <td>-2.923165e-01</td>\n",
       "      <td>1.000000e+00</td>\n",
       "      <td>-9.725122e-01</td>\n",
       "      <td>0.000000</td>\n",
       "      <td>-1.381805e-16</td>\n",
       "      <td>-1.079129e-16</td>\n",
       "      <td>-0.861828</td>\n",
       "      <td>-0.862547</td>\n",
       "    </tr>\n",
       "    <tr>\n",
       "      <th>Overall Height</th>\n",
       "      <td>8.277473e-01</td>\n",
       "      <td>-8.581477e-01</td>\n",
       "      <td>2.809757e-01</td>\n",
       "      <td>-9.725122e-01</td>\n",
       "      <td>1.000000e+00</td>\n",
       "      <td>0.000000</td>\n",
       "      <td>1.861418e-18</td>\n",
       "      <td>0.000000e+00</td>\n",
       "      <td>0.889431</td>\n",
       "      <td>0.895785</td>\n",
       "    </tr>\n",
       "    <tr>\n",
       "      <th>Orientation</th>\n",
       "      <td>0.000000e+00</td>\n",
       "      <td>0.000000e+00</td>\n",
       "      <td>0.000000e+00</td>\n",
       "      <td>0.000000e+00</td>\n",
       "      <td>0.000000e+00</td>\n",
       "      <td>1.000000</td>\n",
       "      <td>0.000000e+00</td>\n",
       "      <td>0.000000e+00</td>\n",
       "      <td>-0.002587</td>\n",
       "      <td>0.014290</td>\n",
       "    </tr>\n",
       "    <tr>\n",
       "      <th>Glazing Area</th>\n",
       "      <td>1.283986e-17</td>\n",
       "      <td>1.318356e-16</td>\n",
       "      <td>-7.969726e-19</td>\n",
       "      <td>-1.381805e-16</td>\n",
       "      <td>1.861418e-18</td>\n",
       "      <td>0.000000</td>\n",
       "      <td>1.000000e+00</td>\n",
       "      <td>2.129642e-01</td>\n",
       "      <td>0.269841</td>\n",
       "      <td>0.207505</td>\n",
       "    </tr>\n",
       "    <tr>\n",
       "      <th>Glazing Area Distribution</th>\n",
       "      <td>1.764620e-17</td>\n",
       "      <td>-3.558613e-16</td>\n",
       "      <td>0.000000e+00</td>\n",
       "      <td>-1.079129e-16</td>\n",
       "      <td>0.000000e+00</td>\n",
       "      <td>0.000000</td>\n",
       "      <td>2.129642e-01</td>\n",
       "      <td>1.000000e+00</td>\n",
       "      <td>0.087368</td>\n",
       "      <td>0.050525</td>\n",
       "    </tr>\n",
       "    <tr>\n",
       "      <th>Heating Load</th>\n",
       "      <td>6.222722e-01</td>\n",
       "      <td>-6.581202e-01</td>\n",
       "      <td>4.556712e-01</td>\n",
       "      <td>-8.618283e-01</td>\n",
       "      <td>8.894307e-01</td>\n",
       "      <td>-0.002587</td>\n",
       "      <td>2.698410e-01</td>\n",
       "      <td>8.736759e-02</td>\n",
       "      <td>1.000000</td>\n",
       "      <td>0.975862</td>\n",
       "    </tr>\n",
       "    <tr>\n",
       "      <th>Cooling Load</th>\n",
       "      <td>6.343391e-01</td>\n",
       "      <td>-6.729989e-01</td>\n",
       "      <td>4.271170e-01</td>\n",
       "      <td>-8.625466e-01</td>\n",
       "      <td>8.957852e-01</td>\n",
       "      <td>0.014290</td>\n",
       "      <td>2.075050e-01</td>\n",
       "      <td>5.052512e-02</td>\n",
       "      <td>0.975862</td>\n",
       "      <td>1.000000</td>\n",
       "    </tr>\n",
       "  </tbody>\n",
       "</table>\n",
       "</div>"
      ],
      "text/plain": [
       "                           Relative Compactness  Surface Area     Wall Area  \\\n",
       "Relative Compactness               1.000000e+00 -9.919015e-01 -2.037817e-01   \n",
       "Surface Area                      -9.919015e-01  1.000000e+00  1.955016e-01   \n",
       "Wall Area                         -2.037817e-01  1.955016e-01  1.000000e+00   \n",
       "Roof Area                         -8.688234e-01  8.807195e-01 -2.923165e-01   \n",
       "Overall Height                     8.277473e-01 -8.581477e-01  2.809757e-01   \n",
       "Orientation                        0.000000e+00  0.000000e+00  0.000000e+00   \n",
       "Glazing Area                       1.283986e-17  1.318356e-16 -7.969726e-19   \n",
       "Glazing Area Distribution          1.764620e-17 -3.558613e-16  0.000000e+00   \n",
       "Heating Load                       6.222722e-01 -6.581202e-01  4.556712e-01   \n",
       "Cooling Load                       6.343391e-01 -6.729989e-01  4.271170e-01   \n",
       "\n",
       "                              Roof Area  Overall Height  Orientation  \\\n",
       "Relative Compactness      -8.688234e-01    8.277473e-01     0.000000   \n",
       "Surface Area               8.807195e-01   -8.581477e-01     0.000000   \n",
       "Wall Area                 -2.923165e-01    2.809757e-01     0.000000   \n",
       "Roof Area                  1.000000e+00   -9.725122e-01     0.000000   \n",
       "Overall Height            -9.725122e-01    1.000000e+00     0.000000   \n",
       "Orientation                0.000000e+00    0.000000e+00     1.000000   \n",
       "Glazing Area              -1.381805e-16    1.861418e-18     0.000000   \n",
       "Glazing Area Distribution -1.079129e-16    0.000000e+00     0.000000   \n",
       "Heating Load              -8.618283e-01    8.894307e-01    -0.002587   \n",
       "Cooling Load              -8.625466e-01    8.957852e-01     0.014290   \n",
       "\n",
       "                           Glazing Area  Glazing Area Distribution  \\\n",
       "Relative Compactness       1.283986e-17               1.764620e-17   \n",
       "Surface Area               1.318356e-16              -3.558613e-16   \n",
       "Wall Area                 -7.969726e-19               0.000000e+00   \n",
       "Roof Area                 -1.381805e-16              -1.079129e-16   \n",
       "Overall Height             1.861418e-18               0.000000e+00   \n",
       "Orientation                0.000000e+00               0.000000e+00   \n",
       "Glazing Area               1.000000e+00               2.129642e-01   \n",
       "Glazing Area Distribution  2.129642e-01               1.000000e+00   \n",
       "Heating Load               2.698410e-01               8.736759e-02   \n",
       "Cooling Load               2.075050e-01               5.052512e-02   \n",
       "\n",
       "                           Heating Load  Cooling Load  \n",
       "Relative Compactness           0.622272      0.634339  \n",
       "Surface Area                  -0.658120     -0.672999  \n",
       "Wall Area                      0.455671      0.427117  \n",
       "Roof Area                     -0.861828     -0.862547  \n",
       "Overall Height                 0.889431      0.895785  \n",
       "Orientation                   -0.002587      0.014290  \n",
       "Glazing Area                   0.269841      0.207505  \n",
       "Glazing Area Distribution      0.087368      0.050525  \n",
       "Heating Load                   1.000000      0.975862  \n",
       "Cooling Load                   0.975862      1.000000  "
      ]
     },
     "execution_count": 91,
     "metadata": {},
     "output_type": "execute_result"
    }
   ],
   "source": [
    "corr_table=data.corr()\n",
    "corr_table"
   ]
  },
  {
   "cell_type": "code",
   "execution_count": 90,
   "metadata": {
    "ExecuteTime": {
     "end_time": "2021-02-04T22:00:14.035823Z",
     "start_time": "2021-02-04T22:00:13.348314Z"
    }
   },
   "outputs": [
    {
     "data": {
      "text/plain": [
       "<AxesSubplot:>"
      ]
     },
     "execution_count": 90,
     "metadata": {},
     "output_type": "execute_result"
    },
    {
     "data": {
      "image/png": "[encoded data removed]",
      "text/plain": [
       "<Figure size 432x288 with 2 Axes>"
      ]
     },
     "metadata": {
      "needs_background": "light"
     },
     "output_type": "display_data"
    }
   ],
   "source": [
    "sns.heatmap(data.corr())"
   ]
  },
  {
   "cell_type": "code",
   "execution_count": 94,
   "metadata": {
    "ExecuteTime": {
     "end_time": "2021-02-04T22:02:53.950924Z",
     "start_time": "2021-02-04T22:02:53.935278Z"
    }
   },
   "outputs": [
    {
     "data": {
      "text/plain": [
       "Heating Load                 1.000000\n",
       "Cooling Load                 0.975862\n",
       "Overall Height               0.889431\n",
       "Roof Area                    0.861828\n",
       "Surface Area                 0.658120\n",
       "Relative Compactness         0.622272\n",
       "Wall Area                    0.455671\n",
       "Glazing Area                 0.269841\n",
       "Glazing Area Distribution    0.087368\n",
       "Orientation                  0.002587\n",
       "Name: Heating Load, dtype: float64"
      ]
     },
     "execution_count": 94,
     "metadata": {},
     "output_type": "execute_result"
    }
   ],
   "source": [
    "sorted_corrs = corr_table[target].abs().sort_values(ascending=False)\n",
    "sorted_corrs"
   ]
  },
  {
   "cell_type": "code",
   "execution_count": 110,
   "metadata": {
    "ExecuteTime": {
     "end_time": "2021-02-04T22:24:50.050906Z",
     "start_time": "2021-02-04T22:24:50.019712Z"
    }
   },
   "outputs": [
    {
     "data": {
      "text/plain": [
       "Heating Load            1.000000\n",
       "Cooling Load            0.975862\n",
       "Overall Height          0.889431\n",
       "Roof Area               0.861828\n",
       "Surface Area            0.658120\n",
       "Relative Compactness    0.622272\n",
       "Wall Area               0.455671\n",
       "Name: Heating Load, dtype: float64"
      ]
     },
     "execution_count": 110,
     "metadata": {},
     "output_type": "execute_result"
    }
   ],
   "source": [
    "strong_correlations = sorted_corrs[sorted_corrs > 0.3]\n",
    "strong_correlations"
   ]
  },
  {
   "cell_type": "markdown",
   "metadata": {},
   "source": [
    "The following features are strongly correlated with the target column."
   ]
  },
  {
   "cell_type": "code",
   "execution_count": 116,
   "metadata": {
    "ExecuteTime": {
     "end_time": "2021-02-04T22:31:02.711646Z",
     "start_time": "2021-02-04T22:31:02.680450Z"
    }
   },
   "outputs": [
    {
     "data": {
      "text/plain": [
       "Overall Height          0.889431\n",
       "Roof Area               0.861828\n",
       "Surface Area            0.658120\n",
       "Relative Compactness    0.622272\n",
       "Wall Area               0.455671\n",
       "Name: Heating Load, dtype: float64"
      ]
     },
     "execution_count": 116,
     "metadata": {},
     "output_type": "execute_result"
    }
   ],
   "source": [
    "features = strong_correlations.drop([\"Heating Load\", \"Cooling Load\"])\n",
    "features"
   ]
  },
  {
   "cell_type": "code",
   "execution_count": 117,
   "metadata": {
    "ExecuteTime": {
     "end_time": "2021-02-04T22:31:07.102323Z",
     "start_time": "2021-02-04T22:31:07.086750Z"
    }
   },
   "outputs": [
    {
     "data": {
      "text/plain": [
       "Index(['Overall Height', 'Roof Area', 'Surface Area', 'Relative Compactness',\n",
       "       'Wall Area'],\n",
       "      dtype='object')"
      ]
     },
     "execution_count": 117,
     "metadata": {},
     "output_type": "execute_result"
    }
   ],
   "source": [
    "features = features.index\n",
    "features"
   ]
  },
  {
   "cell_type": "code",
   "execution_count": null,
   "metadata": {},
   "outputs": [],
   "source": []
  },
  {
   "cell_type": "code",
   "execution_count": 134,
   "metadata": {
    "ExecuteTime": {
     "end_time": "2021-02-04T23:03:38.366443Z",
     "start_time": "2021-02-04T23:03:38.335228Z"
    }
   },
   "outputs": [],
   "source": [
    "# The following function builds a linear regression model for calculating the target based on the feature columns, \n",
    "# as well as calculates the Root mean square error for the particular model.\n",
    "\n",
    "def calc_rmse(features):\n",
    "    lr = LinearRegression()\n",
    "    lr.fit(train[features], train[target])\n",
    "\n",
    "    train_predictions = lr.predict(train[features])\n",
    "    train_mse = mean_squared_error(train[target], train_predictions)\n",
    "    train_rmse = np.sqrt(train_mse)\n",
    "\n",
    "    test_predictions = lr.predict(test[features])\n",
    "    test_mse = mean_squared_error(test[target], test_predictions)\n",
    "    test_rmse = np.sqrt(test_mse)\n",
    "\n",
    "    print(train_rmse, test_rmse)\n",
    "    return train_rmse, test_rmse"
   ]
  },
  {
   "cell_type": "markdown",
   "metadata": {},
   "source": [
    "### Feature engineering "
   ]
  },
  {
   "cell_type": "code",
   "execution_count": 121,
   "metadata": {
    "ExecuteTime": {
     "end_time": "2021-02-04T22:47:09.370146Z",
     "start_time": "2021-02-04T22:47:09.354576Z"
    }
   },
   "outputs": [],
   "source": [
    "from itertools import combinations"
   ]
  },
  {
   "cell_type": "code",
   "execution_count": 129,
   "metadata": {
    "ExecuteTime": {
     "end_time": "2021-02-04T22:53:38.680725Z",
     "start_time": "2021-02-04T22:53:38.665152Z"
    }
   },
   "outputs": [],
   "source": [
    "feature_combinations = []"
   ]
  },
  {
   "cell_type": "markdown",
   "metadata": {},
   "source": [
    "Determining all possible feature combination"
   ]
  },
  {
   "cell_type": "code",
   "execution_count": 130,
   "metadata": {
    "ExecuteTime": {
     "end_time": "2021-02-04T22:53:39.399480Z",
     "start_time": "2021-02-04T22:53:39.383857Z"
    },
    "collapsed": true
   },
   "outputs": [
    {
     "data": {
      "text/plain": [
       "[(0,),\n",
       " (1,),\n",
       " (2,),\n",
       " (3,),\n",
       " (4,),\n",
       " (0, 1),\n",
       " (0, 2),\n",
       " (0, 3),\n",
       " (0, 4),\n",
       " (1, 2),\n",
       " (1, 3),\n",
       " (1, 4),\n",
       " (2, 3),\n",
       " (2, 4),\n",
       " (3, 4),\n",
       " (0, 1, 2),\n",
       " (0, 1, 3),\n",
       " (0, 1, 4),\n",
       " (0, 2, 3),\n",
       " (0, 2, 4),\n",
       " (0, 3, 4),\n",
       " (1, 2, 3),\n",
       " (1, 2, 4),\n",
       " (1, 3, 4),\n",
       " (2, 3, 4),\n",
       " (0, 1, 2, 3),\n",
       " (0, 1, 2, 4),\n",
       " (0, 1, 3, 4),\n",
       " (0, 2, 3, 4),\n",
       " (1, 2, 3, 4),\n",
       " (0, 1, 2, 3, 4)]"
      ]
     },
     "execution_count": 130,
     "metadata": {},
     "output_type": "execute_result"
    }
   ],
   "source": [
    "for i in range(1, len(features)+1):\n",
    "    c = combinations([0,1,2,3,4],i)\n",
    "    for j in list(c):\n",
    "        feature_combinations.append(j)\n",
    "        \n",
    "feature_combinations"
   ]
  },
  {
   "cell_type": "markdown",
   "metadata": {},
   "source": [
    "Building the linear regression models and their RMSError calculation."
   ]
  },
  {
   "cell_type": "code",
   "execution_count": 164,
   "metadata": {
    "ExecuteTime": {
     "end_time": "2021-02-04T23:24:41.962854Z",
     "start_time": "2021-02-04T23:24:41.650350Z"
    }
   },
   "outputs": [
    {
     "name": "stdout",
     "output_type": "stream",
     "text": [
      "[4.55712699969348, 5.040175426040528, 7.601778059619571, 7.9055737557947, 8.973332960111076, 4.556447349412604, 4.020128395135652, 4.023403164394239, 3.9547632914841064, 4.522661192422458, 4.2800631420055755, 4.522661192422457, 7.19601290073955, 4.522661192422459, 5.039825889703935, 3.9441200527902436, 3.8788944690847282, 3.9441200527902436, 4.015022905166357, 3.9441200527902445, 3.9215470159820107, 4.056989768269926, 4.5193590316030265, 4.056989768269925, 4.056989768269918, 3.8669721709292575, 3.946448006073275, 3.866972170929261, 3.8669721709292597, 4.064841429231089, 3.867106313586498]\n",
      "[4.811471144740372, 5.401508280181481, 7.558948186781943, 7.848775839799842, 8.991286709981122, 4.8060953669669155, 4.501967975680569, 4.53079541924859, 4.506615557326976, 5.090077112584537, 4.933730875350559, 5.090077112584537, 7.2037726848539005, 5.090077112584537, 5.476877243014828, 4.487040762242953, 4.495214412034966, 4.487040762242951, 4.511642047219671, 4.487040762242952, 4.481452543033247, 4.777370173498623, 5.085025023026688, 4.777370173498731, 4.777370173498563, 4.5128430810168725, 4.48418712833345, 4.51284308101684, 4.512843081016775, 4.784826367022903, 4.512182265286662]\n",
      "31\n"
     ]
    }
   ],
   "source": [
    "train_rmses = []\n",
    "test_rmses = []\n",
    "sanakirja={}\n",
    "for ehto in feature_combinations:\n",
    "    columns = []\n",
    "    for alkio in ehto:\n",
    "        columns.append(features[alkio])\n",
    "    \n",
    "    sanakirja[ehto]=columns\n",
    "    train_rmse, test_rmse = calc_rmse(columns)\n",
    "    train_rmses.append(train_rmse)\n",
    "    test_rmses.append(test_rmse)\n",
    "    #print(columns)\n",
    "    \n",
    "    \n",
    "#print(train_rmses)\n",
    "#print(test_rmses)   "
   ]
  },
  {
   "cell_type": "code",
   "execution_count": 167,
   "metadata": {
    "ExecuteTime": {
     "end_time": "2021-02-04T23:25:43.401115Z",
     "start_time": "2021-02-04T23:25:43.088621Z"
    }
   },
   "outputs": [
    {
     "data": {
      "image/png": "[encoded data removed]",
      "text/plain": [
       "<Figure size 1080x360 with 2 Axes>"
      ]
     },
     "metadata": {
      "needs_background": "light"
     },
     "output_type": "display_data"
    }
   ],
   "source": [
    "fig = plt.figure(figsize=(15,5))\n",
    "\n",
    "\n",
    "ax1 = fig.add_subplot(1, 2, 1)\n",
    "ax1.set_title(\"train RMSEs\")\n",
    "plt.plot(train_rmses)\n",
    "\n",
    "\n",
    "ax2 = fig.add_subplot(1, 2, 2)\n",
    "ax2.set_title(\"test RMSEs\")\n",
    "plt.plot(test_rmses)\n",
    "\n",
    "plt.show()"
   ]
  },
  {
   "cell_type": "markdown",
   "metadata": {},
   "source": [
    "What model does have the minimum RMSError in the test dataset?"
   ]
  },
  {
   "cell_type": "code",
   "execution_count": 146,
   "metadata": {
    "ExecuteTime": {
     "end_time": "2021-02-04T23:11:31.178392Z",
     "start_time": "2021-02-04T23:11:31.162808Z"
    }
   },
   "outputs": [
    {
     "name": "stdout",
     "output_type": "stream",
     "text": [
      "4.481452543033247 20\n"
     ]
    }
   ],
   "source": [
    "min_test_rmse=min(test_rmses)\n",
    "min_test_rmse_index = test_rmses.index(min_test_rmse)\n",
    "print(min_test_rmse, min_test_rmse_index)"
   ]
  },
  {
   "cell_type": "markdown",
   "metadata": {},
   "source": [
    "The one that takes the following columns as features"
   ]
  },
  {
   "cell_type": "code",
   "execution_count": 153,
   "metadata": {
    "ExecuteTime": {
     "end_time": "2021-02-04T23:16:07.625642Z",
     "start_time": "2021-02-04T23:16:07.610000Z"
    }
   },
   "outputs": [
    {
     "data": {
      "text/plain": [
       "['Overall Height', 'Relative Compactness', 'Wall Area']"
      ]
     },
     "execution_count": 153,
     "metadata": {},
     "output_type": "execute_result"
    }
   ],
   "source": [
    "sanakirja[feature_combinations[min_test_rmse_index]]"
   ]
  },
  {
   "cell_type": "markdown",
   "metadata": {},
   "source": [
    "Judging by the test RMSError, the following models have errors close to the minimal one."
   ]
  },
  {
   "cell_type": "code",
   "execution_count": 168,
   "metadata": {
    "ExecuteTime": {
     "end_time": "2021-02-04T23:28:03.902787Z",
     "start_time": "2021-02-04T23:28:03.887185Z"
    }
   },
   "outputs": [
    {
     "name": "stdout",
     "output_type": "stream",
     "text": [
      "4.487\n",
      "['Overall Height', 'Roof Area', 'Surface Area']\n",
      "----------\n",
      "4.495\n",
      "['Overall Height', 'Roof Area', 'Relative Compactness']\n",
      "----------\n",
      "4.487\n",
      "['Overall Height', 'Roof Area', 'Wall Area']\n",
      "----------\n",
      "4.512\n",
      "['Overall Height', 'Surface Area', 'Relative Compactness']\n",
      "----------\n",
      "4.487\n",
      "['Overall Height', 'Surface Area', 'Wall Area']\n",
      "----------\n",
      "4.481\n",
      "['Overall Height', 'Relative Compactness', 'Wall Area']\n",
      "----------\n"
     ]
    }
   ],
   "source": [
    "for i in range(15,21):\n",
    "    print(test_rmses[i].round(3))\n",
    "    print(sanakirja[feature_combinations[i]])\n",
    "    print(\"----------\")"
   ]
  },
  {
   "cell_type": "code",
   "execution_count": null,
   "metadata": {},
   "outputs": [],
   "source": []
  },
  {
   "cell_type": "markdown",
   "metadata": {},
   "source": [
    "## Classification. Logistic Regression."
   ]
  },
  {
   "cell_type": "code",
   "execution_count": 169,
   "metadata": {
    "ExecuteTime": {
     "end_time": "2021-02-05T00:58:58.971245Z",
     "start_time": "2021-02-05T00:58:58.643117Z"
    }
   },
   "outputs": [],
   "source": [
    "from sklearn.linear_model import LogisticRegression"
   ]
  },
  {
   "cell_type": "code",
   "execution_count": 173,
   "metadata": {
    "ExecuteTime": {
     "end_time": "2021-02-05T01:17:22.470720Z",
     "start_time": "2021-02-05T01:17:22.455075Z"
    }
   },
   "outputs": [],
   "source": [
    "target = \"Orientation\""
   ]
  },
  {
   "cell_type": "code",
   "execution_count": 171,
   "metadata": {
    "ExecuteTime": {
     "end_time": "2021-02-05T01:00:50.050681Z",
     "start_time": "2021-02-05T01:00:49.769397Z"
    }
   },
   "outputs": [
    {
     "data": {
      "text/plain": [
       "array([2., 3., 4., 5.])"
      ]
     },
     "execution_count": 171,
     "metadata": {},
     "output_type": "execute_result"
    }
   ],
   "source": [
    "orientations = data[\"Orientation\"].unique()\n",
    "orientations"
   ]
  },
  {
   "cell_type": "markdown",
   "metadata": {},
   "source": [
    "It is already in categorical values expressed witn numbers:\n",
    "\n",
    "2 - North\n",
    "3 - West\n",
    "4 - South\n",
    "5 - East"
   ]
  },
  {
   "cell_type": "markdown",
   "metadata": {},
   "source": [
    "One-vs-all approach: the problem is converted into n=4 binary classification problems.\n",
    "\n",
    "1. North is positive (1); the rest (West, East, South) are negative (0).\n",
    "2. West is positive (1); the rest (North, East, South) are negative (0).\n",
    "3. East is positive (1); the rest (North, West, South) are negative (0).\n",
    "4. South is positive (1); the rest (North, East, West) are negative (0)."
   ]
  },
  {
   "cell_type": "code",
   "execution_count": 174,
   "metadata": {
    "ExecuteTime": {
     "end_time": "2021-02-05T01:17:26.611430Z",
     "start_time": "2021-02-05T01:17:25.923887Z"
    }
   },
   "outputs": [
    {
     "data": {
      "text/plain": [
       "Orientation                  1.000000\n",
       "Cooling Load                 0.014290\n",
       "Heating Load                 0.002587\n",
       "Glazing Area Distribution    0.000000\n",
       "Glazing Area                 0.000000\n",
       "Overall Height               0.000000\n",
       "Roof Area                    0.000000\n",
       "Wall Area                    0.000000\n",
       "Surface Area                 0.000000\n",
       "Relative Compactness         0.000000\n",
       "Name: Orientation, dtype: float64"
      ]
     },
     "execution_count": 174,
     "metadata": {},
     "output_type": "execute_result"
    }
   ],
   "source": [
    "sorted_corrs = corr_table[target].abs().sort_values(ascending=False)\n",
    "sorted_corrs"
   ]
  },
  {
   "cell_type": "code",
   "execution_count": 178,
   "metadata": {
    "ExecuteTime": {
     "end_time": "2021-02-05T01:20:38.238688Z",
     "start_time": "2021-02-05T01:20:38.082487Z"
    }
   },
   "outputs": [
    {
     "data": {
      "text/plain": [
       "Index(['Relative Compactness', 'Surface Area', 'Wall Area', 'Overall Height',\n",
       "       'Glazing Area', 'Glazing Area Distribution', 'Heating Load',\n",
       "       'Cooling Load'],\n",
       "      dtype='object')"
      ]
     },
     "execution_count": 178,
     "metadata": {},
     "output_type": "execute_result"
    }
   ],
   "source": [
    "features = data.columns.drop(['Orientation', 'Roof Area'])\n",
    "features"
   ]
  },
  {
   "cell_type": "code",
   "execution_count": 269,
   "metadata": {
    "ExecuteTime": {
     "end_time": "2021-02-05T02:34:26.995664Z",
     "start_time": "2021-02-05T02:34:26.980041Z"
    }
   },
   "outputs": [
    {
     "data": {
      "text/plain": [
       "['Relative Compactness',\n",
       " 'Surface Area',\n",
       " 'Wall Area',\n",
       " 'Heating Load',\n",
       " 'Cooling Load']"
      ]
     },
     "execution_count": 269,
     "metadata": {},
     "output_type": "execute_result"
    }
   ],
   "source": [
    "features = ['Relative Compactness','Surface Area','Wall Area','Heating Load', 'Cooling Load']\n",
    "features"
   ]
  },
  {
   "cell_type": "markdown",
   "metadata": {},
   "source": [
    "### Splitting the dataset "
   ]
  },
  {
   "cell_type": "code",
   "execution_count": 203,
   "metadata": {
    "ExecuteTime": {
     "end_time": "2021-02-05T01:37:46.398057Z",
     "start_time": "2021-02-05T01:37:46.382431Z"
    }
   },
   "outputs": [],
   "source": [
    "#data = data.reset_index()\n",
    "shuffled_rows = np.random.permutation(data.index)\n",
    "shuffled_rows\n",
    "shuffled_data = data.iloc[shuffled_rows]"
   ]
  },
  {
   "cell_type": "code",
   "execution_count": 226,
   "metadata": {
    "ExecuteTime": {
     "end_time": "2021-02-05T01:51:55.634114Z",
     "start_time": "2021-02-05T01:51:55.571614Z"
    }
   },
   "outputs": [],
   "source": [
    "train, test = train_test_split(shuffled_data, test_size=0.2, random_state=13)"
   ]
  },
  {
   "cell_type": "code",
   "execution_count": 227,
   "metadata": {
    "ExecuteTime": {
     "end_time": "2021-02-05T01:51:56.368520Z",
     "start_time": "2021-02-05T01:51:56.321625Z"
    },
    "collapsed": true
   },
   "outputs": [
    {
     "data": {
      "text/html": [
       "<div>\n",
       "<style scoped>\n",
       "    .dataframe tbody tr th:only-of-type {\n",
       "        vertical-align: middle;\n",
       "    }\n",
       "\n",
       "    .dataframe tbody tr th {\n",
       "        vertical-align: top;\n",
       "    }\n",
       "\n",
       "    .dataframe thead th {\n",
       "        text-align: right;\n",
       "    }\n",
       "</style>\n",
       "<table border=\"1\" class=\"dataframe\">\n",
       "  <thead>\n",
       "    <tr style=\"text-align: right;\">\n",
       "      <th></th>\n",
       "      <th>level_0</th>\n",
       "      <th>index</th>\n",
       "      <th>Relative Compactness</th>\n",
       "      <th>Surface Area</th>\n",
       "      <th>Wall Area</th>\n",
       "      <th>Roof Area</th>\n",
       "      <th>Overall Height</th>\n",
       "      <th>Orientation</th>\n",
       "      <th>Glazing Area</th>\n",
       "      <th>Glazing Area Distribution</th>\n",
       "      <th>Heating Load</th>\n",
       "      <th>Cooling Load</th>\n",
       "    </tr>\n",
       "  </thead>\n",
       "  <tbody>\n",
       "    <tr>\n",
       "      <th>0</th>\n",
       "      <td>650</td>\n",
       "      <td>651</td>\n",
       "      <td>0.74</td>\n",
       "      <td>686.0</td>\n",
       "      <td>245.0</td>\n",
       "      <td>220.5</td>\n",
       "      <td>3.5</td>\n",
       "      <td>4</td>\n",
       "      <td>0.40</td>\n",
       "      <td>3</td>\n",
       "      <td>14.10</td>\n",
       "      <td>16.57</td>\n",
       "    </tr>\n",
       "    <tr>\n",
       "      <th>1</th>\n",
       "      <td>407</td>\n",
       "      <td>408</td>\n",
       "      <td>0.76</td>\n",
       "      <td>661.5</td>\n",
       "      <td>416.5</td>\n",
       "      <td>122.5</td>\n",
       "      <td>7.0</td>\n",
       "      <td>5</td>\n",
       "      <td>0.25</td>\n",
       "      <td>3</td>\n",
       "      <td>36.52</td>\n",
       "      <td>37.29</td>\n",
       "    </tr>\n",
       "    <tr>\n",
       "      <th>2</th>\n",
       "      <td>198</td>\n",
       "      <td>199</td>\n",
       "      <td>0.90</td>\n",
       "      <td>563.5</td>\n",
       "      <td>318.5</td>\n",
       "      <td>122.5</td>\n",
       "      <td>7.0</td>\n",
       "      <td>4</td>\n",
       "      <td>0.10</td>\n",
       "      <td>4</td>\n",
       "      <td>28.86</td>\n",
       "      <td>32.83</td>\n",
       "    </tr>\n",
       "    <tr>\n",
       "      <th>3</th>\n",
       "      <td>425</td>\n",
       "      <td>426</td>\n",
       "      <td>0.64</td>\n",
       "      <td>784.0</td>\n",
       "      <td>343.0</td>\n",
       "      <td>220.5</td>\n",
       "      <td>3.5</td>\n",
       "      <td>3</td>\n",
       "      <td>0.25</td>\n",
       "      <td>3</td>\n",
       "      <td>16.93</td>\n",
       "      <td>20.03</td>\n",
       "    </tr>\n",
       "    <tr>\n",
       "      <th>4</th>\n",
       "      <td>505</td>\n",
       "      <td>506</td>\n",
       "      <td>0.74</td>\n",
       "      <td>686.0</td>\n",
       "      <td>245.0</td>\n",
       "      <td>220.5</td>\n",
       "      <td>3.5</td>\n",
       "      <td>3</td>\n",
       "      <td>0.25</td>\n",
       "      <td>5</td>\n",
       "      <td>11.67</td>\n",
       "      <td>14.58</td>\n",
       "    </tr>\n",
       "    <tr>\n",
       "      <th>...</th>\n",
       "      <td>...</td>\n",
       "      <td>...</td>\n",
       "      <td>...</td>\n",
       "      <td>...</td>\n",
       "      <td>...</td>\n",
       "      <td>...</td>\n",
       "      <td>...</td>\n",
       "      <td>...</td>\n",
       "      <td>...</td>\n",
       "      <td>...</td>\n",
       "      <td>...</td>\n",
       "      <td>...</td>\n",
       "    </tr>\n",
       "    <tr>\n",
       "      <th>149</th>\n",
       "      <td>427</td>\n",
       "      <td>428</td>\n",
       "      <td>0.64</td>\n",
       "      <td>784.0</td>\n",
       "      <td>343.0</td>\n",
       "      <td>220.5</td>\n",
       "      <td>3.5</td>\n",
       "      <td>5</td>\n",
       "      <td>0.25</td>\n",
       "      <td>3</td>\n",
       "      <td>16.86</td>\n",
       "      <td>20.28</td>\n",
       "    </tr>\n",
       "    <tr>\n",
       "      <th>150</th>\n",
       "      <td>464</td>\n",
       "      <td>465</td>\n",
       "      <td>0.69</td>\n",
       "      <td>735.0</td>\n",
       "      <td>294.0</td>\n",
       "      <td>220.5</td>\n",
       "      <td>3.5</td>\n",
       "      <td>2</td>\n",
       "      <td>0.25</td>\n",
       "      <td>4</td>\n",
       "      <td>12.91</td>\n",
       "      <td>15.37</td>\n",
       "    </tr>\n",
       "    <tr>\n",
       "      <th>151</th>\n",
       "      <td>219</td>\n",
       "      <td>220</td>\n",
       "      <td>0.74</td>\n",
       "      <td>686.0</td>\n",
       "      <td>245.0</td>\n",
       "      <td>220.5</td>\n",
       "      <td>3.5</td>\n",
       "      <td>5</td>\n",
       "      <td>0.10</td>\n",
       "      <td>4</td>\n",
       "      <td>10.14</td>\n",
       "      <td>13.53</td>\n",
       "    </tr>\n",
       "    <tr>\n",
       "      <th>152</th>\n",
       "      <td>645</td>\n",
       "      <td>646</td>\n",
       "      <td>0.76</td>\n",
       "      <td>661.5</td>\n",
       "      <td>416.5</td>\n",
       "      <td>122.5</td>\n",
       "      <td>7.0</td>\n",
       "      <td>3</td>\n",
       "      <td>0.40</td>\n",
       "      <td>3</td>\n",
       "      <td>39.84</td>\n",
       "      <td>38.48</td>\n",
       "    </tr>\n",
       "    <tr>\n",
       "      <th>153</th>\n",
       "      <td>545</td>\n",
       "      <td>546</td>\n",
       "      <td>0.79</td>\n",
       "      <td>637.0</td>\n",
       "      <td>343.0</td>\n",
       "      <td>147.0</td>\n",
       "      <td>7.0</td>\n",
       "      <td>3</td>\n",
       "      <td>0.40</td>\n",
       "      <td>1</td>\n",
       "      <td>42.62</td>\n",
       "      <td>39.07</td>\n",
       "    </tr>\n",
       "  </tbody>\n",
       "</table>\n",
       "<p>154 rows × 12 columns</p>\n",
       "</div>"
      ],
      "text/plain": [
       "     level_0  index  Relative Compactness  Surface Area  Wall Area  Roof Area  \\\n",
       "0        650    651                  0.74         686.0      245.0      220.5   \n",
       "1        407    408                  0.76         661.5      416.5      122.5   \n",
       "2        198    199                  0.90         563.5      318.5      122.5   \n",
       "3        425    426                  0.64         784.0      343.0      220.5   \n",
       "4        505    506                  0.74         686.0      245.0      220.5   \n",
       "..       ...    ...                   ...           ...        ...        ...   \n",
       "149      427    428                  0.64         784.0      343.0      220.5   \n",
       "150      464    465                  0.69         735.0      294.0      220.5   \n",
       "151      219    220                  0.74         686.0      245.0      220.5   \n",
       "152      645    646                  0.76         661.5      416.5      122.5   \n",
       "153      545    546                  0.79         637.0      343.0      147.0   \n",
       "\n",
       "     Overall Height  Orientation  Glazing Area  Glazing Area Distribution  \\\n",
       "0               3.5            4          0.40                          3   \n",
       "1               7.0            5          0.25                          3   \n",
       "2               7.0            4          0.10                          4   \n",
       "3               3.5            3          0.25                          3   \n",
       "4               3.5            3          0.25                          5   \n",
       "..              ...          ...           ...                        ...   \n",
       "149             3.5            5          0.25                          3   \n",
       "150             3.5            2          0.25                          4   \n",
       "151             3.5            5          0.10                          4   \n",
       "152             7.0            3          0.40                          3   \n",
       "153             7.0            3          0.40                          1   \n",
       "\n",
       "     Heating Load  Cooling Load  \n",
       "0           14.10         16.57  \n",
       "1           36.52         37.29  \n",
       "2           28.86         32.83  \n",
       "3           16.93         20.03  \n",
       "4           11.67         14.58  \n",
       "..            ...           ...  \n",
       "149         16.86         20.28  \n",
       "150         12.91         15.37  \n",
       "151         10.14         13.53  \n",
       "152         39.84         38.48  \n",
       "153         42.62         39.07  \n",
       "\n",
       "[154 rows x 12 columns]"
      ]
     },
     "execution_count": 227,
     "metadata": {},
     "output_type": "execute_result"
    }
   ],
   "source": [
    "test = test.reset_index()\n",
    "test"
   ]
  },
  {
   "cell_type": "markdown",
   "metadata": {},
   "source": [
    "### Building the models "
   ]
  },
  {
   "cell_type": "code",
   "execution_count": 242,
   "metadata": {
    "ExecuteTime": {
     "end_time": "2021-02-05T02:10:17.885651Z",
     "start_time": "2021-02-05T02:10:17.745078Z"
    }
   },
   "outputs": [],
   "source": [
    "models={}\n",
    "\n",
    "for side in orientations:\n",
    "    y = train[\"Orientation\"]== side\n",
    "    \n",
    "    logReg = LogisticRegression()\n",
    "    logReg.fit(train[features], y)\n",
    "    \n",
    "    models[side] = logReg"
   ]
  },
  {
   "cell_type": "code",
   "execution_count": 229,
   "metadata": {
    "ExecuteTime": {
     "end_time": "2021-02-05T01:52:32.150185Z",
     "start_time": "2021-02-05T01:52:32.118985Z"
    }
   },
   "outputs": [
    {
     "data": {
      "text/plain": [
       "{2.0: LogisticRegression(),\n",
       " 3.0: LogisticRegression(),\n",
       " 4.0: LogisticRegression(),\n",
       " 5.0: LogisticRegression()}"
      ]
     },
     "execution_count": 229,
     "metadata": {},
     "output_type": "execute_result"
    }
   ],
   "source": [
    "models"
   ]
  },
  {
   "cell_type": "code",
   "execution_count": 230,
   "metadata": {
    "ExecuteTime": {
     "end_time": "2021-02-05T01:52:33.197069Z",
     "start_time": "2021-02-05T01:52:33.150248Z"
    }
   },
   "outputs": [],
   "source": [
    "testing_probs = pd.DataFrame(columns=orientations)\n",
    "\n",
    "for side in orientations:\n",
    "    probability = models[side].predict_proba(test[features])\n",
    "    testing_probs[side] = probability[:,1]"
   ]
  },
  {
   "cell_type": "code",
   "execution_count": 231,
   "metadata": {
    "ExecuteTime": {
     "end_time": "2021-02-05T01:52:35.837776Z",
     "start_time": "2021-02-05T01:52:35.806479Z"
    }
   },
   "outputs": [
    {
     "data": {
      "text/html": [
       "<div>\n",
       "<style scoped>\n",
       "    .dataframe tbody tr th:only-of-type {\n",
       "        vertical-align: middle;\n",
       "    }\n",
       "\n",
       "    .dataframe tbody tr th {\n",
       "        vertical-align: top;\n",
       "    }\n",
       "\n",
       "    .dataframe thead th {\n",
       "        text-align: right;\n",
       "    }\n",
       "</style>\n",
       "<table border=\"1\" class=\"dataframe\">\n",
       "  <thead>\n",
       "    <tr style=\"text-align: right;\">\n",
       "      <th></th>\n",
       "      <th>2.0</th>\n",
       "      <th>3.0</th>\n",
       "      <th>4.0</th>\n",
       "      <th>5.0</th>\n",
       "    </tr>\n",
       "  </thead>\n",
       "  <tbody>\n",
       "    <tr>\n",
       "      <th>0</th>\n",
       "      <td>0.272654</td>\n",
       "      <td>0.253983</td>\n",
       "      <td>0.288321</td>\n",
       "      <td>0.196182</td>\n",
       "    </tr>\n",
       "    <tr>\n",
       "      <th>1</th>\n",
       "      <td>0.237475</td>\n",
       "      <td>0.213870</td>\n",
       "      <td>0.272637</td>\n",
       "      <td>0.254002</td>\n",
       "    </tr>\n",
       "    <tr>\n",
       "      <th>2</th>\n",
       "      <td>0.264687</td>\n",
       "      <td>0.207446</td>\n",
       "      <td>0.282746</td>\n",
       "      <td>0.243019</td>\n",
       "    </tr>\n",
       "    <tr>\n",
       "      <th>3</th>\n",
       "      <td>0.243376</td>\n",
       "      <td>0.219637</td>\n",
       "      <td>0.259698</td>\n",
       "      <td>0.261848</td>\n",
       "    </tr>\n",
       "    <tr>\n",
       "      <th>4</th>\n",
       "      <td>0.276468</td>\n",
       "      <td>0.255107</td>\n",
       "      <td>0.288866</td>\n",
       "      <td>0.194174</td>\n",
       "    </tr>\n",
       "    <tr>\n",
       "      <th>...</th>\n",
       "      <td>...</td>\n",
       "      <td>...</td>\n",
       "      <td>...</td>\n",
       "      <td>...</td>\n",
       "    </tr>\n",
       "    <tr>\n",
       "      <th>149</th>\n",
       "      <td>0.242592</td>\n",
       "      <td>0.215406</td>\n",
       "      <td>0.257741</td>\n",
       "      <td>0.268677</td>\n",
       "    </tr>\n",
       "    <tr>\n",
       "      <th>150</th>\n",
       "      <td>0.264108</td>\n",
       "      <td>0.249479</td>\n",
       "      <td>0.279680</td>\n",
       "      <td>0.209349</td>\n",
       "    </tr>\n",
       "    <tr>\n",
       "      <th>151</th>\n",
       "      <td>0.278247</td>\n",
       "      <td>0.252682</td>\n",
       "      <td>0.287816</td>\n",
       "      <td>0.196586</td>\n",
       "    </tr>\n",
       "    <tr>\n",
       "      <th>152</th>\n",
       "      <td>0.237074</td>\n",
       "      <td>0.234095</td>\n",
       "      <td>0.282161</td>\n",
       "      <td>0.225119</td>\n",
       "    </tr>\n",
       "    <tr>\n",
       "      <th>153</th>\n",
       "      <td>0.243045</td>\n",
       "      <td>0.262667</td>\n",
       "      <td>0.298445</td>\n",
       "      <td>0.186540</td>\n",
       "    </tr>\n",
       "  </tbody>\n",
       "</table>\n",
       "<p>154 rows × 4 columns</p>\n",
       "</div>"
      ],
      "text/plain": [
       "          2.0       3.0       4.0       5.0\n",
       "0    0.272654  0.253983  0.288321  0.196182\n",
       "1    0.237475  0.213870  0.272637  0.254002\n",
       "2    0.264687  0.207446  0.282746  0.243019\n",
       "3    0.243376  0.219637  0.259698  0.261848\n",
       "4    0.276468  0.255107  0.288866  0.194174\n",
       "..        ...       ...       ...       ...\n",
       "149  0.242592  0.215406  0.257741  0.268677\n",
       "150  0.264108  0.249479  0.279680  0.209349\n",
       "151  0.278247  0.252682  0.287816  0.196586\n",
       "152  0.237074  0.234095  0.282161  0.225119\n",
       "153  0.243045  0.262667  0.298445  0.186540\n",
       "\n",
       "[154 rows x 4 columns]"
      ]
     },
     "execution_count": 231,
     "metadata": {},
     "output_type": "execute_result"
    }
   ],
   "source": [
    "testing_probs"
   ]
  },
  {
   "cell_type": "code",
   "execution_count": 232,
   "metadata": {
    "ExecuteTime": {
     "end_time": "2021-02-05T01:52:41.619065Z",
     "start_time": "2021-02-05T01:52:41.603421Z"
    }
   },
   "outputs": [
    {
     "data": {
      "text/plain": [
       "0      4.0\n",
       "1      4.0\n",
       "2      4.0\n",
       "3      5.0\n",
       "4      4.0\n",
       "      ... \n",
       "149    5.0\n",
       "150    4.0\n",
       "151    4.0\n",
       "152    4.0\n",
       "153    4.0\n",
       "Length: 154, dtype: float64"
      ]
     },
     "execution_count": 232,
     "metadata": {},
     "output_type": "execute_result"
    }
   ],
   "source": [
    "predicted_orientation = testing_probs.idxmax(axis=1)\n",
    "predicted_orientation"
   ]
  },
  {
   "cell_type": "code",
   "execution_count": 233,
   "metadata": {
    "ExecuteTime": {
     "end_time": "2021-02-05T01:52:44.525329Z",
     "start_time": "2021-02-05T01:52:44.509708Z"
    }
   },
   "outputs": [],
   "source": [
    "test[\"Predictions\"] = predicted_orientation\n",
    "test[[\"Orientation\", \"Predictions\"]]"
   ]
  },
  {
   "cell_type": "code",
   "execution_count": 278,
   "metadata": {
    "ExecuteTime": {
     "end_time": "2021-02-05T02:40:51.937800Z",
     "start_time": "2021-02-05T02:40:51.922225Z"
    }
   },
   "outputs": [
    {
     "data": {
      "text/plain": [
       "31"
      ]
     },
     "execution_count": 278,
     "metadata": {},
     "output_type": "execute_result"
    }
   ],
   "source": [
    "(test[\"Orientation\"]==test[\"Predictions\"]).sum()"
   ]
  },
  {
   "cell_type": "markdown",
   "metadata": {},
   "source": [
    "### Building models as a function"
   ]
  },
  {
   "cell_type": "code",
   "execution_count": 258,
   "metadata": {
    "ExecuteTime": {
     "end_time": "2021-02-05T02:31:00.641072Z",
     "start_time": "2021-02-05T02:31:00.609826Z"
    }
   },
   "outputs": [],
   "source": [
    "def calc_predictions(features):\n",
    "    test_copy = test.copy()\n",
    "    models={}\n",
    "\n",
    "    for side in orientations:\n",
    "        y = train[\"Orientation\"]== side\n",
    "\n",
    "        logReg = LogisticRegression()\n",
    "        logReg.fit(train[features], y)\n",
    "\n",
    "        models[side] = logReg\n",
    "        \n",
    "        testing_probs = pd.DataFrame(columns=orientations)\n",
    "\n",
    "    for side in orientations:\n",
    "        probability = models[side].predict_proba(test_copy[features])\n",
    "        testing_probs[side] = probability[:,1]\n",
    "    \n",
    "    predicted_orientation = testing_probs.idxmax(axis=1)\n",
    "    test_copy[\"Predictions\"] = predicted_orientation\n",
    "    correct_predictions = (test_copy[\"Orientation\"]==test_copy[\"Predictions\"]).sum()\n",
    "    \n",
    "    return correct_predictions\n",
    "    #print(correct_ones)"
   ]
  },
  {
   "cell_type": "markdown",
   "metadata": {},
   "source": [
    "### Feature Engineering "
   ]
  },
  {
   "cell_type": "code",
   "execution_count": 270,
   "metadata": {
    "ExecuteTime": {
     "end_time": "2021-02-05T02:34:32.276975Z",
     "start_time": "2021-02-05T02:34:32.261353Z"
    }
   },
   "outputs": [
    {
     "data": {
      "text/plain": [
       "['Relative Compactness',\n",
       " 'Surface Area',\n",
       " 'Wall Area',\n",
       " 'Heating Load',\n",
       " 'Cooling Load']"
      ]
     },
     "execution_count": 270,
     "metadata": {},
     "output_type": "execute_result"
    }
   ],
   "source": [
    "features"
   ]
  },
  {
   "cell_type": "code",
   "execution_count": 271,
   "metadata": {
    "ExecuteTime": {
     "end_time": "2021-02-05T02:34:35.417657Z",
     "start_time": "2021-02-05T02:34:35.386388Z"
    }
   },
   "outputs": [],
   "source": [
    "feature_combinations = []\n",
    "\n",
    "for i in range(1, len(features)+1):\n",
    "    c = combinations([0,1,2,3,4],i)\n",
    "    for j in list(c):\n",
    "        feature_combinations.append(j)\n",
    "        \n",
    "#feature_combinations"
   ]
  },
  {
   "cell_type": "code",
   "execution_count": 272,
   "metadata": {
    "ExecuteTime": {
     "end_time": "2021-02-05T02:34:40.933350Z",
     "start_time": "2021-02-05T02:34:38.777074Z"
    }
   },
   "outputs": [
    {
     "name": "stdout",
     "output_type": "stream",
     "text": [
      "[20, 20, 19, 20, 20, 20, 19, 20, 20, 20, 20, 22, 20, 19, 29, 20, 20, 22, 20, 19, 28, 22, 20, 31, 29, 20, 20, 31, 30, 27, 30]\n",
      "{(0,): ['Relative Compactness'], (1,): ['Surface Area'], (2,): ['Wall Area'], (3,): ['Heating Load'], (4,): ['Cooling Load'], (0, 1): ['Relative Compactness', 'Surface Area'], (0, 2): ['Relative Compactness', 'Wall Area'], (0, 3): ['Relative Compactness', 'Heating Load'], (0, 4): ['Relative Compactness', 'Cooling Load'], (1, 2): ['Surface Area', 'Wall Area'], (1, 3): ['Surface Area', 'Heating Load'], (1, 4): ['Surface Area', 'Cooling Load'], (2, 3): ['Wall Area', 'Heating Load'], (2, 4): ['Wall Area', 'Cooling Load'], (3, 4): ['Heating Load', 'Cooling Load'], (0, 1, 2): ['Relative Compactness', 'Surface Area', 'Wall Area'], (0, 1, 3): ['Relative Compactness', 'Surface Area', 'Heating Load'], (0, 1, 4): ['Relative Compactness', 'Surface Area', 'Cooling Load'], (0, 2, 3): ['Relative Compactness', 'Wall Area', 'Heating Load'], (0, 2, 4): ['Relative Compactness', 'Wall Area', 'Cooling Load'], (0, 3, 4): ['Relative Compactness', 'Heating Load', 'Cooling Load'], (1, 2, 3): ['Surface Area', 'Wall Area', 'Heating Load'], (1, 2, 4): ['Surface Area', 'Wall Area', 'Cooling Load'], (1, 3, 4): ['Surface Area', 'Heating Load', 'Cooling Load'], (2, 3, 4): ['Wall Area', 'Heating Load', 'Cooling Load'], (0, 1, 2, 3): ['Relative Compactness', 'Surface Area', 'Wall Area', 'Heating Load'], (0, 1, 2, 4): ['Relative Compactness', 'Surface Area', 'Wall Area', 'Cooling Load'], (0, 1, 3, 4): ['Relative Compactness', 'Surface Area', 'Heating Load', 'Cooling Load'], (0, 2, 3, 4): ['Relative Compactness', 'Wall Area', 'Heating Load', 'Cooling Load'], (1, 2, 3, 4): ['Surface Area', 'Wall Area', 'Heating Load', 'Cooling Load'], (0, 1, 2, 3, 4): ['Relative Compactness', 'Surface Area', 'Wall Area', 'Heating Load', 'Cooling Load']}\n"
     ]
    }
   ],
   "source": [
    "list_correct_ones = []\n",
    "\n",
    "sanakirja={}\n",
    "for ehto in feature_combinations:\n",
    "    columns = []\n",
    "    for alkio in ehto:\n",
    "        columns.append(features[alkio])\n",
    "    \n",
    "    sanakirja[ehto]=columns\n",
    "    correct_predictions = calc_predictions(columns)\n",
    "    list_correct_ones.append(correct_predictions)\n",
    "    \n",
    "#print(list_correct_ones)\n",
    "#print(sanakirja)"
   ]
  },
  {
   "cell_type": "code",
   "execution_count": 273,
   "metadata": {
    "ExecuteTime": {
     "end_time": "2021-02-05T02:34:44.011491Z",
     "start_time": "2021-02-05T02:34:43.995890Z"
    }
   },
   "outputs": [
    {
     "data": {
      "text/plain": [
       "31"
      ]
     },
     "execution_count": 273,
     "metadata": {},
     "output_type": "execute_result"
    }
   ],
   "source": [
    "#list_correct_ones\n",
    "max(list_correct_ones)"
   ]
  },
  {
   "cell_type": "code",
   "execution_count": 277,
   "metadata": {
    "ExecuteTime": {
     "end_time": "2021-02-05T02:38:35.295527Z",
     "start_time": "2021-02-05T02:38:35.279904Z"
    }
   },
   "outputs": [
    {
     "name": "stdout",
     "output_type": "stream",
     "text": [
      "23\n"
     ]
    },
    {
     "data": {
      "text/plain": [
       "['Surface Area', 'Heating Load', 'Cooling Load']"
      ]
     },
     "execution_count": 277,
     "metadata": {},
     "output_type": "execute_result"
    }
   ],
   "source": [
    "max_predictions=max(list_correct_ones)\n",
    "max_predictions_index = list_correct_ones.index(max_predictions)\n",
    "#print(max_predictions_index)\n",
    "sanakirja[feature_combinations[max_predictions_index]]"
   ]
  },
  {
   "cell_type": "code",
   "execution_count": 288,
   "metadata": {
    "ExecuteTime": {
     "end_time": "2021-02-05T03:15:31.996334Z",
     "start_time": "2021-02-05T03:15:31.980672Z"
    }
   },
   "outputs": [
    {
     "data": {
      "text/plain": [
       "0.2012987012987013"
      ]
     },
     "execution_count": 288,
     "metadata": {},
     "output_type": "execute_result"
    }
   ],
   "source": [
    "accuracy = max(list_correct_ones) / len(test)\n",
    "accuracy"
   ]
  },
  {
   "cell_type": "code",
   "execution_count": null,
   "metadata": {},
   "outputs": [],
   "source": []
  },
  {
   "cell_type": "markdown",
   "metadata": {},
   "source": [
    "### Cross-validation "
   ]
  },
  {
   "cell_type": "code",
   "execution_count": 279,
   "metadata": {
    "ExecuteTime": {
     "end_time": "2021-02-05T02:43:41.942190Z",
     "start_time": "2021-02-05T02:43:41.895320Z"
    }
   },
   "outputs": [],
   "source": [
    "from sklearn.model_selection import cross_val_score, KFold"
   ]
  },
  {
   "cell_type": "code",
   "execution_count": 289,
   "metadata": {
    "ExecuteTime": {
     "end_time": "2021-02-05T03:16:31.965774Z",
     "start_time": "2021-02-05T03:16:31.762626Z"
    },
    "collapsed": true
   },
   "outputs": [
    {
     "name": "stderr",
     "output_type": "stream",
     "text": [
      "C:\\Users\\Timo\\anaconda3\\lib\\site-packages\\sklearn\\linear_model\\_logistic.py:765: ConvergenceWarning: lbfgs failed to converge (status=1):\n",
      "STOP: TOTAL NO. of ITERATIONS REACHED LIMIT.\n",
      "\n",
      "Increase the number of iterations (max_iter) or scale the data as shown in:\n",
      "    https://scikit-learn.org/stable/modules/preprocessing.html\n",
      "Please also refer to the documentation for alternative solver options:\n",
      "    https://scikit-learn.org/stable/modules/linear_model.html#logistic-regression\n",
      "  extra_warning_msg=_LOGISTIC_SOLVER_CONVERGENCE_MSG)\n",
      "C:\\Users\\Timo\\anaconda3\\lib\\site-packages\\sklearn\\linear_model\\_logistic.py:765: ConvergenceWarning: lbfgs failed to converge (status=1):\n",
      "STOP: TOTAL NO. of ITERATIONS REACHED LIMIT.\n",
      "\n",
      "Increase the number of iterations (max_iter) or scale the data as shown in:\n",
      "    https://scikit-learn.org/stable/modules/preprocessing.html\n",
      "Please also refer to the documentation for alternative solver options:\n",
      "    https://scikit-learn.org/stable/modules/linear_model.html#logistic-regression\n",
      "  extra_warning_msg=_LOGISTIC_SOLVER_CONVERGENCE_MSG)\n",
      "C:\\Users\\Timo\\anaconda3\\lib\\site-packages\\sklearn\\linear_model\\_logistic.py:765: ConvergenceWarning: lbfgs failed to converge (status=1):\n",
      "STOP: TOTAL NO. of ITERATIONS REACHED LIMIT.\n",
      "\n",
      "Increase the number of iterations (max_iter) or scale the data as shown in:\n",
      "    https://scikit-learn.org/stable/modules/preprocessing.html\n",
      "Please also refer to the documentation for alternative solver options:\n",
      "    https://scikit-learn.org/stable/modules/linear_model.html#logistic-regression\n",
      "  extra_warning_msg=_LOGISTIC_SOLVER_CONVERGENCE_MSG)\n",
      "C:\\Users\\Timo\\anaconda3\\lib\\site-packages\\sklearn\\linear_model\\_logistic.py:765: ConvergenceWarning: lbfgs failed to converge (status=1):\n",
      "STOP: TOTAL NO. of ITERATIONS REACHED LIMIT.\n",
      "\n",
      "Increase the number of iterations (max_iter) or scale the data as shown in:\n",
      "    https://scikit-learn.org/stable/modules/preprocessing.html\n",
      "Please also refer to the documentation for alternative solver options:\n",
      "    https://scikit-learn.org/stable/modules/linear_model.html#logistic-regression\n",
      "  extra_warning_msg=_LOGISTIC_SOLVER_CONVERGENCE_MSG)\n"
     ]
    }
   ],
   "source": [
    "kf = KFold(n_splits= 4, shuffle=True, random_state=14)\n",
    "logReg = LogisticRegression()\n",
    "\n",
    "a = cross_val_score(logReg, test[['Surface Area', 'Heating Load', 'Cooling Load']],\n",
    "                    test[\"Orientation\"], scoring=\"accuracy\", cv=kf)\n"
   ]
  },
  {
   "cell_type": "code",
   "execution_count": 291,
   "metadata": {
    "ExecuteTime": {
     "end_time": "2021-02-05T03:16:56.622323Z",
     "start_time": "2021-02-05T03:16:56.575424Z"
    }
   },
   "outputs": [
    {
     "name": "stdout",
     "output_type": "stream",
     "text": [
      "[0.46153846 0.38461538 0.39473684 0.36842105]\n",
      "0.4\n"
     ]
    }
   ],
   "source": [
    "print(a)\n",
    "print(np.mean(a).round(2))"
   ]
  },
  {
   "cell_type": "code",
   "execution_count": null,
   "metadata": {},
   "outputs": [],
   "source": []
  },
  {
   "cell_type": "markdown",
   "metadata": {},
   "source": [
    "## Decision Tree"
   ]
  },
  {
   "cell_type": "code",
   "execution_count": 346,
   "metadata": {
    "ExecuteTime": {
     "end_time": "2021-02-05T03:51:45.736115Z",
     "start_time": "2021-02-05T03:51:45.704863Z"
    }
   },
   "outputs": [],
   "source": [
    "from sklearn.tree import DecisionTreeClassifier\n",
    "from sklearn.metrics import roc_auc_score"
   ]
  },
  {
   "cell_type": "code",
   "execution_count": 312,
   "metadata": {
    "ExecuteTime": {
     "end_time": "2021-02-05T03:36:05.434321Z",
     "start_time": "2021-02-05T03:36:05.403084Z"
    }
   },
   "outputs": [
    {
     "data": {
      "text/plain": [
       "Index(['index', 'Relative Compactness', 'Surface Area', 'Wall Area',\n",
       "       'Roof Area', 'Overall Height', 'Orientation', 'Glazing Area',\n",
       "       'Glazing Area Distribution', 'Heating Load', 'Cooling Load'],\n",
       "      dtype='object')"
      ]
     },
     "execution_count": 312,
     "metadata": {},
     "output_type": "execute_result"
    }
   ],
   "source": [
    "data.columns"
   ]
  },
  {
   "cell_type": "code",
   "execution_count": 360,
   "metadata": {
    "ExecuteTime": {
     "end_time": "2021-02-05T04:11:52.850901Z",
     "start_time": "2021-02-05T04:11:52.835282Z"
    }
   },
   "outputs": [
    {
     "data": {
      "text/plain": [
       "0.40    240\n",
       "0.10    240\n",
       "0.25    240\n",
       "0.00     48\n",
       "Name: Glazing Area, dtype: int64"
      ]
     },
     "execution_count": 360,
     "metadata": {},
     "output_type": "execute_result"
    }
   ],
   "source": [
    "data['Glazing Area'].value_counts()"
   ]
  },
  {
   "cell_type": "markdown",
   "metadata": {},
   "source": [
    "Let's divide the column into 2 categories: 'Glazing Area' < 0.25 and 'Glazing Area' >=0.25"
   ]
  },
  {
   "cell_type": "code",
   "execution_count": 361,
   "metadata": {
    "ExecuteTime": {
     "end_time": "2021-02-05T04:12:03.397904Z",
     "start_time": "2021-02-05T04:12:03.382308Z"
    }
   },
   "outputs": [],
   "source": [
    "dataGl = data.copy()"
   ]
  },
  {
   "cell_type": "code",
   "execution_count": 362,
   "metadata": {
    "ExecuteTime": {
     "end_time": "2021-02-05T04:12:04.851047Z",
     "start_time": "2021-02-05T04:12:04.835421Z"
    }
   },
   "outputs": [],
   "source": [
    "dataGl.loc[data['Glazing Area']<0.25, 'Glazing Area']=0\n",
    "dataGl.loc[data['Glazing Area']>=0.25, 'Glazing Area']=1"
   ]
  },
  {
   "cell_type": "code",
   "execution_count": 363,
   "metadata": {
    "ExecuteTime": {
     "end_time": "2021-02-05T04:12:06.147957Z",
     "start_time": "2021-02-05T04:12:06.116743Z"
    }
   },
   "outputs": [
    {
     "data": {
      "text/plain": [
       "1.0    480\n",
       "0.0    288\n",
       "Name: Glazing Area, dtype: int64"
      ]
     },
     "execution_count": 363,
     "metadata": {},
     "output_type": "execute_result"
    }
   ],
   "source": [
    "dataGl['Glazing Area'].value_counts()"
   ]
  },
  {
   "cell_type": "code",
   "execution_count": 364,
   "metadata": {
    "ExecuteTime": {
     "end_time": "2021-02-05T04:12:24.460677Z",
     "start_time": "2021-02-05T04:12:24.445048Z"
    }
   },
   "outputs": [],
   "source": [
    "shuffled_rows = np.random.permutation(dataGl.index)\n",
    "shuffled_rows\n",
    "shuffled_data = dataGl.iloc[shuffled_rows]"
   ]
  },
  {
   "cell_type": "code",
   "execution_count": 381,
   "metadata": {
    "ExecuteTime": {
     "end_time": "2021-02-05T04:18:45.560210Z",
     "start_time": "2021-02-05T04:18:45.544640Z"
    }
   },
   "outputs": [],
   "source": [
    "train, test = train_test_split(shuffled_data, test_size=0.2, random_state=10)"
   ]
  },
  {
   "cell_type": "code",
   "execution_count": 394,
   "metadata": {
    "ExecuteTime": {
     "end_time": "2021-02-05T04:39:51.761560Z",
     "start_time": "2021-02-05T04:39:51.745910Z"
    }
   },
   "outputs": [
    {
     "data": {
      "text/plain": [
       "['Wall Area', 'Roof Area']"
      ]
     },
     "execution_count": 394,
     "metadata": {},
     "output_type": "execute_result"
    }
   ],
   "source": [
    "features = dataGl.columns\n",
    "#features = ['Heating Load', 'Cooling Load']\n",
    "features = ['Heating Load']\n",
    "#features = ['Wall Area', 'Roof Area']\n",
    "features"
   ]
  },
  {
   "cell_type": "code",
   "execution_count": 395,
   "metadata": {
    "ExecuteTime": {
     "end_time": "2021-02-05T04:39:52.433439Z",
     "start_time": "2021-02-05T04:39:52.402191Z"
    }
   },
   "outputs": [
    {
     "name": "stdout",
     "output_type": "stream",
     "text": [
      "0.5\n",
      "0.5\n"
     ]
    }
   ],
   "source": [
    "clf = DecisionTreeClassifier(random_state=1)\n",
    "clf.fit(train[features], train['Glazing Area'])\n",
    "\n",
    "predictions_train = clf.predict(train[features])\n",
    "error_train = roc_auc_score(train['Glazing Area'], predictions_train)\n",
    "\n",
    "predictions_test = clf.predict(test[features])\n",
    "error_test = roc_auc_score(test['Glazing Area'], predictions_test)\n",
    "\n",
    "print(error_train)\n",
    "print(error_test)"
   ]
  },
  {
   "cell_type": "markdown",
   "metadata": {},
   "source": [
    "With 1 column as a feature, the model tends to be overfitting. \n",
    "But already with 2 columns as features, the model fits almost perfectly (accuracy in the test dataset is over 90%.)"
   ]
  },
  {
   "cell_type": "markdown",
   "metadata": {},
   "source": [
    "### Random forest "
   ]
  },
  {
   "cell_type": "code",
   "execution_count": 386,
   "metadata": {
    "ExecuteTime": {
     "end_time": "2021-02-05T04:34:58.961134Z",
     "start_time": "2021-02-05T04:34:57.586172Z"
    }
   },
   "outputs": [],
   "source": [
    "from sklearn.ensemble import RandomForestClassifier"
   ]
  },
  {
   "cell_type": "code",
   "execution_count": 391,
   "metadata": {
    "ExecuteTime": {
     "end_time": "2021-02-05T04:37:14.494053Z",
     "start_time": "2021-02-05T04:37:14.259695Z"
    }
   },
   "outputs": [],
   "source": [
    "clf = RandomForestClassifier(n_estimators=3, bootstrap=True)\n",
    "clf.fit(train[features], train['Glazing Area'])\n",
    "predictions_test = clf.predict(test[features])\n",
    "error_test = roc_auc_score(test['Glazing Area'], predictions_test)"
   ]
  },
  {
   "cell_type": "code",
   "execution_count": 390,
   "metadata": {
    "ExecuteTime": {
     "end_time": "2021-02-05T04:36:55.665685Z",
     "start_time": "2021-02-05T04:36:55.650039Z"
    }
   },
   "outputs": [
    {
     "name": "stdout",
     "output_type": "stream",
     "text": [
      "1.0\n"
     ]
    }
   ],
   "source": [
    "print(error_test)"
   ]
  },
  {
   "cell_type": "markdown",
   "metadata": {},
   "source": [
    "In the RandomForest model the accuracy is 100%."
   ]
  }
 ],
 "metadata": {
  "kernelspec": {
   "display_name": "Python 3",
   "language": "python",
   "name": "python3"
  },
  "language_info": {
   "codemirror_mode": {
    "name": "ipython",
    "version": 3
   },
   "file_extension": ".py",
   "mimetype": "text/x-python",
   "name": "python",
   "nbconvert_exporter": "python",
   "pygments_lexer": "ipython3",
   "version": "3.7.6"
  },
  "toc": {
   "base_numbering": 1,
   "nav_menu": {},
   "number_sections": true,
   "sideBar": true,
   "skip_h1_title": false,
   "title_cell": "Table of Contents",
   "title_sidebar": "Contents",
   "toc_cell": false,
   "toc_position": {},
   "toc_section_display": true,
   "toc_window_display": false
  },
  "varInspector": {
   "cols": {
    "lenName": 16,
    "lenType": 16,
    "lenVar": 40
   },
   "kernels_config": {
    "python": {
     "delete_cmd_postfix": "",
     "delete_cmd_prefix": "del ",
     "library": "var_list.py",
     "varRefreshCmd": "print(var_dic_list())"
    },
    "r": {
     "delete_cmd_postfix": ") ",
     "delete_cmd_prefix": "rm(",
     "library": "var_list.r",
     "varRefreshCmd": "cat(var_dic_list()) "
    }
   },
   "types_to_exclude": [
    "module",
    "function",
    "builtin_function_or_method",
    "instance",
    "_Feature"
   ],
   "window_display": false
  }
 },
 "nbformat": 4,
 "nbformat_minor": 4
}
